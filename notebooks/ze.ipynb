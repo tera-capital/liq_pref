{
 "cells": [
  {
   "cell_type": "code",
   "execution_count": 1,
   "metadata": {},
   "outputs": [
    {
     "name": "stdout",
     "output_type": "stream",
     "text": [
      "10.0\n",
      "45.0\n"
     ]
    }
   ],
   "source": [
    "def post_money_safe(val, inv):\n",
    "    return inv / val * 100\n",
    "\n",
    "def pre_money_safe(pre, stake, inv):\n",
    "    return stake * pre / (pre+inv)\n",
    "\n",
    "\n",
    "# B brings in 10MM on a 100MM post money valuation on ABC\n",
    "# how much B owns?\n",
    "\n",
    "post_val = 100\n",
    "new_inv = 10\n",
    "\n",
    "b_post_stake = post_money_safe(post_val, new_inv)\n",
    "print(b_post_stake)\n",
    "\n",
    "# Investor A had 10% stake on ABC (10MM investment with a 100MM pre money Valuation)\n",
    "# B brings in an additional 10MM on a new round\n",
    "# how much A still have?\n",
    "\n",
    "a_pre_stake = 50\n",
    "pre_val = 90\n",
    "\n",
    "a_post_stake = pre_money_safe(pre_val, a_pre_stake, new_inv)\n",
    "print(a_post_stake)"
   ]
  },
  {
   "cell_type": "code",
   "execution_count": 78,
   "metadata": {},
   "outputs": [],
   "source": [
    "class Investment:\n",
    "\n",
    "    def __init__(self, invested, round):\n",
    "        self.invested = invested\n",
    "        self.round = round\n",
    "        self.shares = self.invested / self.round.price\n",
    "\n",
    "class Investor:\n",
    "\n",
    "    def __init__(self, name):\n",
    "        self.name = name\n",
    "        self.investments = []\n",
    "\n",
    "    def new_investment(self, invested, round):\n",
    "        investment = Investment(invested, round)\n",
    "        self.investments.append(investment)\n",
    "\n",
    "    def total_shares(self):\n",
    "        shares = 0\n",
    "        for i in self.investments:\n",
    "            shares += i.shares \n",
    "        return shares\n",
    "    \n",
    "    def total_invested(self):\n",
    "        invested = 0\n",
    "        for i in self.investments:\n",
    "            invested += i.invested \n",
    "        return invested\n",
    "        \n",
    "class Round:\n",
    "\n",
    "    def __init__(self, name, valuation, shares, covenants = None):\n",
    "        self.name = name\n",
    "        self.valuation = valuation\n",
    "        self.shares = shares\n",
    "        self.price = valuation/shares\n",
    "        self.covenants = covenants\n",
    "\n",
    "class Deal:\n",
    "\n",
    "    def __init__(self, investment, stake):\n",
    "        self.investment = investment\n",
    "        self.stake = stake / 100\n",
    "\n",
    "class Company:\n",
    "    \n",
    "    def __init__(self, name, equity, shares):\n",
    "        self.name = name\n",
    "\n",
    "        self.incorporation = Round('incorporation', equity, shares)\n",
    "\n",
    "        self.founder = Investor('founder')\n",
    "        self.founder.new_investment(equity, self.incorporation)\n",
    "\n",
    "        self.investors = [self.founder]\n",
    "        self.rounds = [self.incorporation]\n",
    "\n",
    "    def current_stake(self):\n",
    "        cap = []\n",
    "        for i in self.investors:\n",
    "            last_round = self.rounds[-1]\n",
    "            total_shares = last_round.shares\n",
    "            investor_shares = i.total_shares()\n",
    "            cap.append({\n",
    "                'investor': i.name,\n",
    "                'stake': investor_shares / total_shares * 100\n",
    "            })\n",
    "        return cap\n",
    "\n",
    "    def get_investor(self, name):\n",
    "        for i in self.investors:\n",
    "            if name == i.name:\n",
    "                return i\n",
    "        return None\n",
    "\n",
    "    def add_investor(self, name):\n",
    "        new_investor = Investor(name)\n",
    "        self.investors.append(new_investor)\n",
    "        return new_investor\n",
    "\n",
    "    def get_add_investor(self, name):\n",
    "        investor = self.get_investor(name)\n",
    "        if investor is None:\n",
    "            investor = self.add_investor(name)\n",
    "        return investor\n",
    "\n",
    "    def new_round(self, name, investors, deal, covenant=None):\n",
    "\n",
    "        post_money_valuation = deal.investment / deal.stake\n",
    "        pre_money_valuation = post_money_valuation -  deal.investment\n",
    "        \n",
    "        total_shares =  self.rounds[-1].shares * ( 1 + deal.investment / pre_money_valuation)\n",
    "        \n",
    "        round = Round(name, post_money_valuation, total_shares, covenants = covenant)\n",
    "        \n",
    "        self.rounds.append(round)\n",
    "\n",
    "        for i in investors:\n",
    "            new_investor = self.get_add_investor(i['name'])\n",
    "            new_investor.new_investment(deal.investment * (i['stake']/100), round)\n",
    "            \n",
    "        return None\n",
    "\n"
   ]
  },
  {
   "cell_type": "code",
   "execution_count": 137,
   "metadata": {},
   "outputs": [
    {
     "data": {
      "text/plain": [
       "10000.0"
      ]
     },
     "execution_count": 137,
     "metadata": {},
     "output_type": "execute_result"
    }
   ],
   "source": [
    "capital = 1e4\n",
    "price_per_share = 0.01\n",
    "\n",
    "company = Company('consorciei', capital, capital/price_per_share)\n",
    "company.incorporation.valuation"
   ]
  },
  {
   "cell_type": "code",
   "execution_count": 138,
   "metadata": {},
   "outputs": [
    {
     "data": {
      "text/plain": [
       "[{'investor': 'founder', 'stake': 100.0}]"
      ]
     },
     "execution_count": 138,
     "metadata": {},
     "output_type": "execute_result"
    }
   ],
   "source": [
    "cap = company.current_stake()\n",
    "cap"
   ]
  },
  {
   "cell_type": "code",
   "execution_count": 139,
   "metadata": {},
   "outputs": [],
   "source": [
    "deal = Deal(10000, 10)\n",
    "investors = [{'name': 'ze', 'stake': 100}]\n",
    "company.new_round('seed', investors, deal)\n",
    "\n",
    "deal = Deal(500000, 20)\n",
    "investors = [{'name': 'tera', 'stake': 80}, {'name': 'patria', 'stake': 20}]\n",
    "company.new_round('a', investors, deal, {'liquidity_preference': 2})"
   ]
  },
  {
   "cell_type": "code",
   "execution_count": 140,
   "metadata": {},
   "outputs": [
    {
     "data": {
      "text/plain": [
       "[{'investor': 'founder', 'stake': 72.0},\n",
       " {'investor': 'ze', 'stake': 8.000000000000002},\n",
       " {'investor': 'tera', 'stake': 16.0},\n",
       " {'investor': 'patria', 'stake': 4.0}]"
      ]
     },
     "execution_count": 140,
     "metadata": {},
     "output_type": "execute_result"
    }
   ],
   "source": [
    "company.current_stake()"
   ]
  },
  {
   "cell_type": "code",
   "execution_count": 142,
   "metadata": {},
   "outputs": [
    {
     "name": "stdout",
     "output_type": "stream",
     "text": [
      "total shares: 1388888.888888889\n",
      "last valuation: 2500000.0\n",
      "---------------------------------------------\n",
      "investor | round | invested | stakes | covenants\n",
      "founder | incorporation | 10000.0 | 72.0 | None\n",
      "ze | seed | 10000.0 | 8.000000000000002 | None\n",
      "tera | a | 400000.0 | 16.0 | {'liquidity_preference': 2}\n",
      "patria | a | 100000.0 | 4.0 | {'liquidity_preference': 2}\n",
      "---------------------------------------------\n"
     ]
    }
   ],
   "source": [
    "exit_multiple = 2\n",
    "last_valuation = company.rounds[-1].valuation \n",
    "total_shares = company.rounds[-1].shares\n",
    "exit_valuation = last_valuation*exit_multiple\n",
    "print('total shares: %s' % total_shares)\n",
    "print('last valuation: %s' % last_valuation)\n",
    "print('---------------------------------------------')\n",
    "print('investor', '|', 'round', '|', 'invested', '|', 'stakes', '|', 'covenants')\n",
    "for i in company.investors:\n",
    "    for a in i.investments:\n",
    "        print(i.name, '|', a.round.name, '|', a.invested, '|', a.shares/total_shares*100, '|', a.round.covenants)\n",
    "\n",
    "print('---------------------------------------------')"
   ]
  },
  {
   "cell_type": "code",
   "execution_count": null,
   "metadata": {},
   "outputs": [],
   "source": []
  }
 ],
 "metadata": {
  "kernelspec": {
   "display_name": "Python 3.10.4 64-bit",
   "language": "python",
   "name": "python3"
  },
  "language_info": {
   "codemirror_mode": {
    "name": "ipython",
    "version": 3
   },
   "file_extension": ".py",
   "mimetype": "text/x-python",
   "name": "python",
   "nbconvert_exporter": "python",
   "pygments_lexer": "ipython3",
   "version": "3.10.4"
  },
  "orig_nbformat": 4,
  "vscode": {
   "interpreter": {
    "hash": "3ad933181bd8a04b432d3370b9dc3b0662ad032c4dfaa4e4f1596c548f763858"
   }
  }
 },
 "nbformat": 4,
 "nbformat_minor": 2
}
