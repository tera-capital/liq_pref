{
 "cells": [
  {
   "cell_type": "code",
   "execution_count": 63,
   "metadata": {},
   "outputs": [],
   "source": [
    "import numpy as np\n",
    "import random \n",
    "import pandas as pd"
   ]
  },
  {
   "cell_type": "code",
   "execution_count": 64,
   "metadata": {},
   "outputs": [
    {
     "name": "stdout",
     "output_type": "stream",
     "text": [
      "10.0\n",
      "45.0\n"
     ]
    }
   ],
   "source": [
    "def post_money_safe(val, inv):\n",
    "    return inv / val * 100\n",
    "\n",
    "def pre_money_safe(pre, stake, inv):\n",
    "    return stake * pre / (pre+inv)\n",
    "\n",
    "\n",
    "# B brings in 10MM on a 100MM post money valuation on ABC\n",
    "# how much B owns?\n",
    "\n",
    "post_val = 100\n",
    "new_inv = 10\n",
    "\n",
    "b_post_stake = post_money_safe(post_val, new_inv)\n",
    "print(b_post_stake)\n",
    "\n",
    "# Investor A had 10% stake on ABC (10MM investment with a 100MM pre money Valuation)\n",
    "# B brings in an additional 10MM on a new round\n",
    "# how much A still have?\n",
    "\n",
    "a_pre_stake = 50\n",
    "pre_val = 90\n",
    "\n",
    "a_post_stake = pre_money_safe(pre_val, a_pre_stake, new_inv)\n",
    "print(a_post_stake)"
   ]
  },
  {
   "cell_type": "code",
   "execution_count": 65,
   "metadata": {},
   "outputs": [],
   "source": [
    "class Investment:\n",
    "\n",
    "    def __init__(self, invested, round):\n",
    "        self.invested = invested\n",
    "        self.round = round\n",
    "        self.shares = self.invested / self.round.price\n",
    "\n",
    "class Investor:\n",
    "\n",
    "    def __init__(self, name):\n",
    "        self.name = name\n",
    "        self.investments = []\n",
    "\n",
    "    def new_investment(self, invested, round):\n",
    "        investment = Investment(invested, round)\n",
    "        self.investments.append(investment)\n",
    "\n",
    "    def total_shares(self):\n",
    "        shares = 0\n",
    "        for i in self.investments:\n",
    "            shares += i.shares \n",
    "        return shares\n",
    "    \n",
    "    def total_invested(self):\n",
    "        invested = 0\n",
    "        for i in self.investments:\n",
    "            invested += i.invested \n",
    "        return invested\n",
    "\n",
    "class Covenants:\n",
    "    \n",
    "    def __init__(self, covenants={}):\n",
    "        self.liquidity_preference = covenants.get('liquidity_preference', 0)\n",
    "           \n",
    "class Round:\n",
    "\n",
    "    def __init__(self, name, invested, valuation, shares, covenants):\n",
    "        self.name = name\n",
    "        self.invested = invested\n",
    "        self.valuation = valuation\n",
    "        self.shares = shares\n",
    "        self.price = valuation/shares\n",
    "        self.covenants = covenants\n",
    "\n",
    "class BookInvestor:\n",
    "    def __init__(self, name, stake):\n",
    "        self.name = name\n",
    "        self.stake = stake / 100\n",
    "\n",
    "class Deal:\n",
    "\n",
    "    def __init__(self, investment, stake):\n",
    "        self.investment = investment\n",
    "        self.stake = stake / 100\n",
    "        self.book = []\n",
    "\n",
    "    def add_investor(self, investor):\n",
    "        self.book.append(investor)\n",
    "\n",
    "class Company:\n",
    "    \n",
    "    def __init__(self, name, equity, shares):\n",
    "        self.name = name\n",
    "\n",
    "        self.incorporation = Round('incorporation', equity, equity, shares, Covenants())\n",
    "\n",
    "        self.founder = Investor('founder')\n",
    "        self.founder.new_investment(equity, self.incorporation)\n",
    "\n",
    "        self.investors = [self.founder]\n",
    "        self.rounds = [self.incorporation]\n",
    "\n",
    "    def current_stake(self):\n",
    "        cap = []\n",
    "        for i in self.investors:\n",
    "            last_round = self.rounds[-1]\n",
    "            total_shares = last_round.shares\n",
    "            investor_shares = i.total_shares()\n",
    "            cap.append({\n",
    "                'investor': i.name,\n",
    "                'stake': investor_shares / total_shares * 100\n",
    "            })\n",
    "        return cap\n",
    "\n",
    "    def get_investor(self, name):\n",
    "        for i in self.investors:\n",
    "            if name == i.name:\n",
    "                return i\n",
    "        return None\n",
    "\n",
    "    def add_investor(self, name):\n",
    "        new_investor = Investor(name)\n",
    "        self.investors.append(new_investor)\n",
    "        return new_investor\n",
    "\n",
    "    def get_add_investor(self, name):\n",
    "        investor = self.get_investor(name)\n",
    "        if investor is None:\n",
    "            investor = self.add_investor(name)\n",
    "        return investor\n",
    "\n",
    "    def new_round(self, name, deal, covenants):\n",
    "\n",
    "        post_money_valuation = deal.investment / deal.stake\n",
    "        pre_money_valuation = post_money_valuation -  deal.investment\n",
    "        \n",
    "        total_shares =  self.rounds[-1].shares * ( 1 + deal.investment / pre_money_valuation)\n",
    "        \n",
    "        round = Round(name, deal.investment, post_money_valuation, total_shares, covenants = covenants)\n",
    "        \n",
    "        self.rounds.append(round)\n",
    "\n",
    "        for i in deal.book:\n",
    "            new_investor = self.get_add_investor(i.name)\n",
    "            new_investor.new_investment(deal.investment * i.stake , round)\n",
    "            \n",
    "        return None"
   ]
  },
  {
   "cell_type": "code",
   "execution_count": 66,
   "metadata": {},
   "outputs": [
    {
     "data": {
      "text/plain": [
       "10000.0"
      ]
     },
     "execution_count": 66,
     "metadata": {},
     "output_type": "execute_result"
    }
   ],
   "source": [
    "capital = 1e4\n",
    "price_per_share = 0.01\n",
    "\n",
    "company = Company('consorciei', capital, capital/price_per_share)\n",
    "company.incorporation.valuation"
   ]
  },
  {
   "cell_type": "code",
   "execution_count": 67,
   "metadata": {},
   "outputs": [
    {
     "data": {
      "text/plain": [
       "[{'investor': 'founder', 'stake': 100.0}]"
      ]
     },
     "execution_count": 67,
     "metadata": {},
     "output_type": "execute_result"
    }
   ],
   "source": [
    "cap = company.current_stake()\n",
    "cap"
   ]
  },
  {
   "cell_type": "code",
   "execution_count": 68,
   "metadata": {},
   "outputs": [],
   "source": [
    "deal = Deal(10000, 10)\n",
    "deal.add_investor(BookInvestor('ze', 100))\n",
    "company.new_round('seed', deal, Covenants({}))\n",
    "\n",
    "deal = Deal(500000, 20)\n",
    "deal.add_investor(BookInvestor('tera', 80))\n",
    "deal.add_investor(BookInvestor('patria', 20))\n",
    "covenants = Covenants({'liquidity_preference': 2})\n",
    "company.new_round('a', deal, covenants)"
   ]
  },
  {
   "cell_type": "code",
   "execution_count": 69,
   "metadata": {},
   "outputs": [
    {
     "data": {
      "text/plain": [
       "[{'investor': 'founder', 'stake': 72.0},\n",
       " {'investor': 'ze', 'stake': 8.000000000000002},\n",
       " {'investor': 'tera', 'stake': 16.0},\n",
       " {'investor': 'patria', 'stake': 4.0}]"
      ]
     },
     "execution_count": 69,
     "metadata": {},
     "output_type": "execute_result"
    }
   ],
   "source": [
    "company.current_stake()"
   ]
  },
  {
   "cell_type": "code",
   "execution_count": 70,
   "metadata": {},
   "outputs": [
    {
     "name": "stdout",
     "output_type": "stream",
     "text": [
      "---------------------------------------------\n",
      "last valuation: 2500000.0\n",
      "exit valuation: 7500000.0\n",
      "---------------------------------------------\n",
      "name | round | invested | stake | total_paid\n",
      "stake_value | liq_pref_floor | paid_due_to_pref | paid_due_to_stake\n",
      "------------------------------------------------------\n",
      "founder | incorporation | 10000.0 | 0.72 | 1542857.142857143\n",
      "5400000.0 | 0.0 | -3857142.8571428573 | 5400000.0\n",
      "------------------------------------------------------\n",
      "ze | seed | 10000.0 | 0.08000000000000002 | 171428.57142857148\n",
      "600000.0000000001 | 0.0 | -428571.42857142864 | 600000.0000000001\n",
      "------------------------------------------------------\n",
      "tera | a | 400000.0 | 0.16 | 1200000.0\n",
      "1200000.0 | 800000.0 | 0.0 | 1200000.0\n",
      "------------------------------------------------------\n",
      "patria | a | 100000.0 | 0.04 | 300000.0\n",
      "300000.0 | 200000.0 | 0.0 | 300000.0\n",
      "------------------------------------------------------\n"
     ]
    }
   ],
   "source": [
    "exit_multiple = 3\n",
    "last_valuation = company.rounds[-1].valuation \n",
    "total_shares = company.rounds[-1].shares\n",
    "exit_valuation = last_valuation*exit_multiple\n",
    "\n",
    "val_to_dist = exit_valuation\n",
    "aux_investments = []\n",
    "for i in company.investors:\n",
    "    for a in i.investments:\n",
    "        aux_investment = {\n",
    "            'name': i.name,\n",
    "            'round': a.round.name,\n",
    "            'invested': a.invested,\n",
    "            'shares': a.shares,\n",
    "            'stake': a.shares/total_shares,\n",
    "            'round_size': a.round.invested,\n",
    "            'round_share': a.invested/a.round.invested,\n",
    "            'liq_pref': a.round.covenants.liquidity_preference,\n",
    "            'stake_value': a.shares/total_shares*exit_valuation,\n",
    "            'liq_pref_floor':  a.invested * a.round.covenants.liquidity_preference\n",
    "        }\n",
    "        aux_investments.append(aux_investment)\n",
    "\n",
    "total_no_preference_shares = 0 \n",
    "\n",
    "for r in company.rounds[::-1]:\n",
    "    r_invested = r.invested\n",
    "    r_liq_pref = r.covenants.liquidity_preference\n",
    "    r_to_pay = np.minimum(r_invested * r_liq_pref, val_to_dist)\n",
    "    for k,i in enumerate(aux_investments):\n",
    "        if i['round'] == r.name and r.covenants.liquidity_preference:\n",
    "            stake_value = i['stake_value']\n",
    "            liquidity_pref_floor = np.minimum(i['invested']*i['liq_pref'], r_to_pay * i['round_share'])\n",
    "            total_paid = np.minimum(np.maximum(liquidity_pref_floor, stake_value), val_to_dist)\n",
    "            aux_investments[k]['total_paid']  = total_paid\n",
    "            aux_investments[k]['paid_due_to_stake'] = stake_value\n",
    "            aux_investments[k]['paid_due_to_pref'] = aux_investments[k]['total_paid']-stake_value\n",
    "            val_to_dist -= total_paid\n",
    "        else:\n",
    "            total_no_preference_shares += i['shares']\n",
    "\n",
    "for r in company.rounds[::-1]:          \n",
    "    for k,i in enumerate(aux_investments):\n",
    "        if i['round'] == r.name and not r.covenants.liquidity_preference:\n",
    "            aux_investments[k]['paid_due_to_stake'] = i['stake_value']\n",
    "            aux_investments[k]['total_paid'] =  i['shares'] / total_no_preference_shares * val_to_dist\n",
    "            aux_investments[k]['paid_due_to_pref'] = aux_investments[k]['total_paid']-i['stake_value']\n",
    "            \n",
    "print('---------------------------------------------')\n",
    "print('last valuation: %s' % last_valuation)\n",
    "print('exit valuation: %s' % exit_valuation)\n",
    "print('---------------------------------------------')\n",
    "print('name', '|', 'round', '|', 'invested', '|', 'stake', '|', 'total_paid')\n",
    "print('stake_value', '|', 'liq_pref_floor', '|', 'paid_due_to_pref', '|', 'paid_due_to_stake')\n",
    "print('------------------------------------------------------')\n",
    "for i in aux_investments:\n",
    "    print(i['name'], '|', i['round'], '|', i['invested'], '|', i['stake'], '|', i['total_paid'])\n",
    "    print(i['stake_value'], '|', i['liq_pref_floor'], '|', i['paid_due_to_pref'], '|', i['paid_due_to_stake'])\n",
    "    print('------------------------------------------------------')"
   ]
  },
  {
   "cell_type": "code",
   "execution_count": 71,
   "metadata": {},
   "outputs": [],
   "source": [
    "# import copy\n",
    "\n",
    "# start = 1e4\n",
    "# rounds = ['seed', 'a', 'b', 'c', 'd', 'exit']\n",
    "# growth = [0, 0.1, 0.2, 0.5, 0.75, 0.8, 1, 2, 5, 7.5, 8, 10, 20, 50, 75, 80, 100]\n",
    "# company_stake = np.linspace(1, 100, 18) #ajustar não faz sentido comprar 0% da companhia\n",
    "# current_investor_deal_stake = np.linspace(0, 100, 21)\n",
    "# liq_pref = np.linspace(0,3, 13)\n",
    "\n",
    "# scenarios = []\n",
    "\n",
    "# company.current_stake()\n",
    "# company = Company('consorciei', capital, capital/price_per_share)\n",
    "# for i in rounds:\n",
    "#     for a in growth:\n",
    "#         #exit or growth = 0 -> PnL (MOIC)\n",
    "#         for b in company_stake:\n",
    "#             #seed or 100% as an exit -> PnL (MOIC)\n",
    "#             for c in current_investor_deal_stake:\n",
    "#                 # novo investidor entra com o que sobrar, investidores antigos na proporção do stake atual sem considerar o founder\n",
    "#                 for d in liq_pref:\n",
    "#                     deal = Deal(500000, 20)\n",
    "#                     deal.add_investor(BookInvestor('tera', 80))\n",
    "#                     deal.add_investor(BookInvestor('patria', 20))\n",
    "#                     covenants = Covenants({'liquidity_preference': 2})\n",
    "#                     company.new_round('a', deal, covenants)\n",
    "\n"
   ]
  },
  {
   "cell_type": "code",
   "execution_count": 72,
   "metadata": {},
   "outputs": [],
   "source": [
    "probabilidades = {'next_round': [0.5362, 0.3223, 0.1935,0.1130, 0.0613,0.0309],\n",
    "                 'write_off': [0.1769, 0.0579, 0.0237,0.0095,0.0046,0.0021],\n",
    "                 'ipo_or_nonr':[0.2869, 0.156, 0.105,0.0709, 0.0472,0.0283]}\n"
   ]
  },
  {
   "cell_type": "code",
   "execution_count": 461,
   "metadata": {},
   "outputs": [
    {
     "data": {
      "text/plain": [
       "10000.0"
      ]
     },
     "execution_count": 461,
     "metadata": {},
     "output_type": "execute_result"
    }
   ],
   "source": [
    "\n",
    "capital = 1e4\n",
    "price_per_share = 0.01\n",
    "\n",
    "company = Company('consorciei', capital, capital/price_per_share)\n",
    "company.incorporation.valuation"
   ]
  },
  {
   "cell_type": "code",
   "execution_count": 338,
   "metadata": {},
   "outputs": [
    {
     "data": {
      "text/plain": [
       "[{'investor': 'founder', 'stake': 100.0}]"
      ]
     },
     "execution_count": 338,
     "metadata": {},
     "output_type": "execute_result"
    }
   ],
   "source": [
    "cap = company.current_stake()\n",
    "cap\n"
   ]
  },
  {
   "cell_type": "code",
   "execution_count": 462,
   "metadata": {},
   "outputs": [
    {
     "data": {
      "text/plain": [
       "10000.0"
      ]
     },
     "execution_count": 462,
     "metadata": {},
     "output_type": "execute_result"
    }
   ],
   "source": [
    "company.rounds[-1].valuation "
   ]
  },
  {
   "cell_type": "code",
   "execution_count": 463,
   "metadata": {},
   "outputs": [
    {
     "data": {
      "text/plain": [
       "1388888.888888889"
      ]
     },
     "execution_count": 463,
     "metadata": {},
     "output_type": "execute_result"
    }
   ],
   "source": [
    "deal = Deal(10000, 10)\n",
    "deal.add_investor(BookInvestor('ze', 100))\n",
    "company.new_round('seed', deal, Covenants({}))\n",
    "\n",
    "\n",
    "\n",
    "deal = Deal(500000, 20)\n",
    "deal.add_investor(BookInvestor('tera', 80))\n",
    "deal.add_investor(BookInvestor('patria', 20))\n",
    "covenants = Covenants({'liquidity_preference': 2})\n",
    "company.new_round('a', deal, covenants)\n",
    "\n",
    "company.rounds[-1].shares"
   ]
  },
  {
   "cell_type": "code",
   "execution_count": 464,
   "metadata": {},
   "outputs": [],
   "source": [
    "\n",
    "\n",
    "capital = 1e4\n",
    "price_per_share = 0.01\n",
    "\n",
    "simulations = 20\n",
    "number_of_rounds = 3\n",
    "\n",
    "\n",
    "company = np.full((simulations), None, dtype=object)\n",
    "\n",
    "for j in range (0,simulations):\n",
    "    company[j] = Company(f'consorciei {j}', capital, capital/price_per_share)\n",
    "\n"
   ]
  },
  {
   "cell_type": "code",
   "execution_count": 465,
   "metadata": {},
   "outputs": [],
   "source": [
    "deal = np.full((simulations, number_of_rounds), None, dtype=object)\n",
    "\n",
    "\n",
    "for j in range (0,simulations):\n",
    "    for i in range(0, number_of_rounds):\n",
    "            deal[j][i] = Deal(random.choice(np.linspace(10000,100000,10)), random.choice(np.linspace(1,99,10)))\n",
    "            deal[j][i].add_investor(BookInvestor(f'investidor_{i}', 100))\n",
    "            company[j].new_round(f'round_{i}', deal[j][i], Covenants({'liquidity_preference': random.choice(np.linspace(0,2,5))}))\n",
    "\n",
    "\n",
    "\n",
    "#cap = company.current_stake()"
   ]
  },
  {
   "cell_type": "code",
   "execution_count": 466,
   "metadata": {},
   "outputs": [
    {
     "data": {
      "text/plain": [
       "841121.4953271028"
      ]
     },
     "execution_count": 466,
     "metadata": {},
     "output_type": "execute_result"
    }
   ],
   "source": [
    "company[2].rounds[-1].valuation "
   ]
  },
  {
   "cell_type": "code",
   "execution_count": 467,
   "metadata": {},
   "outputs": [
    {
     "name": "stdout",
     "output_type": "stream",
     "text": [
      "[{'investor': 'founder', 'stake': 7.591833333333331}, {'investor': 'investidor_0', 'stake': 25.738166666666658}, {'investor': 'investidor_1', 'stake': 65.67}, {'investor': 'investidor_2', 'stake': 1.0}]\n",
      "[{'investor': 'founder', 'stake': 11.583619341563784}, {'investor': 'investidor_0', 'stake': 3.4167510288065834}, {'investor': 'investidor_1', 'stake': 18.666296296296295}, {'investor': 'investidor_2', 'stake': 66.33333333333334}]\n",
      "[{'investor': 'founder', 'stake': 3.5267288065843583}, {'investor': 'investidor_0', 'stake': 6.948703292181064}, {'investor': 'investidor_1', 'stake': 77.63567901234568}, {'investor': 'investidor_2', 'stake': 11.88888888888889}]\n",
      "[{'investor': 'founder', 'stake': 12.502722222222221}, {'investor': 'investidor_0', 'stake': 42.387277777777776}, {'investor': 'investidor_1', 'stake': 44.10999999999999}, {'investor': 'investidor_2', 'stake': 1.0}]\n",
      "[{'investor': 'founder', 'stake': 17.245438271604932}, {'investor': 'investidor_0', 'stake': 33.97863580246914}, {'investor': 'investidor_1', 'stake': 25.99814814814816}, {'investor': 'investidor_2', 'stake': 22.77777777777778}]\n",
      "[{'investor': 'founder', 'stake': 0.12629012345679047}, {'investor': 'investidor_0', 'stake': 12.502722222222221}, {'investor': 'investidor_1', 'stake': 42.81543209876543}, {'investor': 'investidor_2', 'stake': 44.555555555555564}]\n",
      "[{'investor': 'founder', 'stake': 9.230019615912207}, {'investor': 'investidor_0', 'stake': 68.40565939643346}, {'investor': 'investidor_1', 'stake': 10.475432098765433}, {'investor': 'investidor_2', 'stake': 11.88888888888889}]\n",
      "[{'investor': 'founder', 'stake': 36.41036666666666}, {'investor': 'investidor_0', 'stake': 18.479633333333336}, {'investor': 'investidor_1', 'stake': 0.5544444444444444}, {'investor': 'investidor_2', 'stake': 44.55555555555556}]\n",
      "[{'investor': 'founder', 'stake': 26.041402057613173}, {'investor': 'investidor_0', 'stake': 13.21699300411523}, {'investor': 'investidor_1', 'stake': 5.297160493827161}, {'investor': 'investidor_2', 'stake': 55.44444444444443}]\n",
      "[{'investor': 'founder', 'stake': 2.091196844993141}, {'investor': 'investidor_0', 'stake': 0.6168278463648832}, {'investor': 'investidor_1', 'stake': 9.180864197530864}, {'investor': 'investidor_2', 'stake': 88.11111111111111}]\n",
      "[{'investor': 'founder', 'stake': 5.808045130315498}, {'investor': 'investidor_0', 'stake': 0.7836832647462275}, {'investor': 'investidor_1', 'stake': 5.2971604938271595}, {'investor': 'investidor_2', 'stake': 88.11111111111113}]\n",
      "[{'investor': 'founder', 'stake': 11.667705761316869}, {'investor': 'investidor_0', 'stake': 39.55636831275719}, {'investor': 'investidor_1', 'stake': 25.99814814814816}, {'investor': 'investidor_2', 'stake': 22.77777777777778}]\n",
      "[{'investor': 'founder', 'stake': 43.66889999999998}, {'investor': 'investidor_0', 'stake': 0.44109999999999994}, {'investor': 'investidor_1', 'stake': 54.88999999999999}, {'investor': 'investidor_2', 'stake': 1.0000000000000002}]\n",
      "[{'investor': 'founder', 'stake': 3.4167510288065834}, {'investor': 'investidor_0', 'stake': 4.251767489711932}, {'investor': 'investidor_1', 'stake': 25.998148148148143}, {'investor': 'investidor_2', 'stake': 66.33333333333333}]\n",
      "[{'investor': 'founder', 'stake': 0.3440679012345689}, {'investor': 'investidor_0', 'stake': 34.06272222222222}, {'investor': 'investidor_1', 'stake': 42.815432098765434}, {'investor': 'investidor_2', 'stake': 22.77777777777778}]\n",
      "[{'investor': 'founder', 'stake': 5.808045130315498}, {'investor': 'investidor_0', 'stake': 43.04467091906721}, {'investor': 'investidor_1', 'stake': 39.25839506172839}, {'investor': 'investidor_2', 'stake': 11.888888888888891}]\n",
      "[{'investor': 'founder', 'stake': 29.36743333333332}, {'investor': 'investidor_0', 'stake': 3.9625666666666644}, {'investor': 'investidor_1', 'stake': 65.67000000000002}, {'investor': 'investidor_2', 'stake': 1.0}]\n",
      "[{'investor': 'founder', 'stake': 4.251767489711932}, {'investor': 'investidor_0', 'stake': 14.414528806584359}, {'investor': 'investidor_1', 'stake': 36.778148148148155}, {'investor': 'investidor_2', 'stake': 44.55555555555556}]\n",
      "[{'investor': 'founder', 'stake': 10.04727777777778}, {'investor': 'investidor_0', 'stake': 12.502722222222223}, {'investor': 'investidor_1', 'stake': 76.45}, {'investor': 'investidor_2', 'stake': 0.9999999999999999}]\n",
      "[{'investor': 'founder', 'stake': 1.501449245541838}, {'investor': 'investidor_0', 'stake': 5.09027914951989}, {'investor': 'investidor_1', 'stake': 48.85271604938272}, {'investor': 'investidor_2', 'stake': 44.55555555555556}]\n"
     ]
    }
   ],
   "source": [
    "for i in range(0,simulations):\n",
    "    print(company[i].current_stake())"
   ]
  },
  {
   "cell_type": "code",
   "execution_count": 468,
   "metadata": {},
   "outputs": [
    {
     "data": {
      "text/plain": [
       "10000.0"
      ]
     },
     "execution_count": 468,
     "metadata": {},
     "output_type": "execute_result"
    }
   ],
   "source": [
    "\n",
    "company[2].rounds[0].valuation\n"
   ]
  },
  {
   "cell_type": "code",
   "execution_count": 469,
   "metadata": {},
   "outputs": [
    {
     "data": {
      "text/plain": [
       "75376.88442211054"
      ]
     },
     "execution_count": 469,
     "metadata": {},
     "output_type": "execute_result"
    }
   ],
   "source": [
    "company[2].rounds[1].valuation\n"
   ]
  },
  {
   "cell_type": "code",
   "execution_count": 470,
   "metadata": {},
   "outputs": [
    {
     "data": {
      "text/plain": [
       "113493.06431273643"
      ]
     },
     "execution_count": 470,
     "metadata": {},
     "output_type": "execute_result"
    }
   ],
   "source": [
    "company[2].rounds[2].valuation\n"
   ]
  },
  {
   "cell_type": "code",
   "execution_count": 471,
   "metadata": {},
   "outputs": [
    {
     "data": {
      "text/plain": [
       "841121.4953271028"
      ]
     },
     "execution_count": 471,
     "metadata": {},
     "output_type": "execute_result"
    }
   ],
   "source": [
    "company[2].rounds[3].valuation\n"
   ]
  },
  {
   "cell_type": "code",
   "execution_count": null,
   "metadata": {},
   "outputs": [],
   "source": []
  },
  {
   "cell_type": "code",
   "execution_count": 472,
   "metadata": {},
   "outputs": [
    {
     "name": "stdout",
     "output_type": "stream",
     "text": [
      "---------------------------------------------\n",
      "last valuation: 841121.4953271028\n",
      "exit valuation: 2523364.4859813084\n",
      "---------------------------------------------\n",
      "name | round | invested | stake | total_paid\n",
      "stake_value | liq_pref_floor | paid_due_to_pref | paid_due_to_stake\n",
      "------------------------------------------------------\n",
      "founder | incorporation | 10000.0 | 0.03526728806584358 | 1034.0158012016886\n",
      "88992.22222222212 | 0.0 | -87958.20642102043 | 88992.22222222212\n",
      "------------------------------------------------------\n",
      "investidor_0 | round_0 | 50000.0 | 0.06948703292181065 | 175341.11111111098\n",
      "175341.11111111098 | 75000.0 | 0.0 | 175341.11111111098\n",
      "------------------------------------------------------\n",
      "investidor_1 | round_1 | 100000.0 | 0.7763567901234568 | 1959031.1526479751\n",
      "1959031.1526479751 | 200000.0 | 0.0 | 1959031.1526479751\n",
      "------------------------------------------------------\n",
      "investidor_2 | round_2 | 100000.0 | 0.11888888888888889 | 300000.0\n",
      "300000.0 | 150000.0 | 0.0 | 300000.0\n",
      "------------------------------------------------------\n"
     ]
    }
   ],
   "source": [
    "exit_multiple = 3\n",
    "last_valuation = company[2].rounds[-1].valuation \n",
    "total_shares = company[2].rounds[-1].shares\n",
    "exit_valuation = last_valuation*exit_multiple\n",
    "\n",
    "val_to_dist = exit_valuation\n",
    "aux_investments = []\n",
    "for i in company[2].investors:\n",
    "    for a in i.investments:\n",
    "        aux_investment = {\n",
    "            'name': i.name,\n",
    "            'round': a.round.name,\n",
    "            'invested': a.invested,\n",
    "            'shares': a.shares,\n",
    "            'stake': a.shares/total_shares,\n",
    "            'round_size': a.round.invested,\n",
    "            'round_share': a.invested/a.round.invested,\n",
    "            'liq_pref': a.round.covenants.liquidity_preference,\n",
    "            'stake_value': a.shares/total_shares*exit_valuation,\n",
    "            'liq_pref_floor':  a.invested * a.round.covenants.liquidity_preference\n",
    "        }\n",
    "        aux_investments.append(aux_investment)\n",
    "\n",
    "total_no_preference_shares = 0 \n",
    "\n",
    "for r in company[2].rounds[::-1]:\n",
    "    r_invested = r.invested\n",
    "    r_liq_pref = r.covenants.liquidity_preference\n",
    "    r_to_pay = np.minimum(r_invested * r_liq_pref, val_to_dist)\n",
    "    for k,i in enumerate(aux_investments):\n",
    "        if i['round'] == r.name and r.covenants.liquidity_preference:\n",
    "            stake_value = i['stake_value']\n",
    "            liquidity_pref_floor = np.minimum(i['invested']*i['liq_pref'], r_to_pay * i['round_share'])\n",
    "            total_paid = np.minimum(np.maximum(liquidity_pref_floor, stake_value), val_to_dist)\n",
    "            aux_investments[k]['total_paid']  = total_paid\n",
    "            aux_investments[k]['paid_due_to_stake'] = stake_value\n",
    "            aux_investments[k]['paid_due_to_pref'] = aux_investments[k]['total_paid']-stake_value\n",
    "            val_to_dist -= total_paid\n",
    "        else:\n",
    "            total_no_preference_shares += i['shares']\n",
    "\n",
    "for r in company[2].rounds[::-1]:          \n",
    "    for k,i in enumerate(aux_investments):\n",
    "        if i['round'] == r.name and not r.covenants.liquidity_preference:\n",
    "            aux_investments[k]['paid_due_to_stake'] = i['stake_value']\n",
    "            aux_investments[k]['total_paid'] =  i['shares'] / total_no_preference_shares * val_to_dist\n",
    "            aux_investments[k]['paid_due_to_pref'] = aux_investments[k]['total_paid']-i['stake_value']\n",
    "\n",
    "res= pd.DataFrame()\n",
    "            \n",
    "print('---------------------------------------------')\n",
    "print('last valuation: %s' % last_valuation)\n",
    "print('exit valuation: %s' % exit_valuation)\n",
    "print('---------------------------------------------')\n",
    "print('name', '|', 'round', '|', 'invested', '|', 'stake', '|', 'total_paid')\n",
    "print('stake_value', '|', 'liq_pref_floor', '|', 'paid_due_to_pref', '|', 'paid_due_to_stake')\n",
    "print('------------------------------------------------------')\n",
    "for i in aux_investments:\n",
    "    print(i['name'], '|', i['round'], '|', i['invested'], '|', i['stake'], '|', i['total_paid'])\n",
    "    print(i['stake_value'], '|', i['liq_pref_floor'], '|', i['paid_due_to_pref'], '|', i['paid_due_to_stake'])\n",
    "    print('------------------------------------------------------')"
   ]
  },
  {
   "cell_type": "code",
   "execution_count": 496,
   "metadata": {},
   "outputs": [
    {
     "name": "stdout",
     "output_type": "stream",
     "text": [
      "incorporation_paid_due_to_pref\n",
      "-87958.20642102043\n",
      "round_0_paid_due_to_pref\n",
      "0.0\n",
      "round_1_paid_due_to_pref\n",
      "0.0\n",
      "round_2_paid_due_to_pref\n",
      "0.0\n"
     ]
    }
   ],
   "source": [
    "\n",
    "for i in aux_investments:\n",
    "    print(f'{i[\"round\"]}_paid_due_to_pref')\n",
    "    print(f'{i[\"paid_due_to_pref\"]}')\n",
    "\n"
   ]
  },
  {
   "cell_type": "code",
   "execution_count": 562,
   "metadata": {},
   "outputs": [
    {
     "data": {
      "text/plain": [
       "array([[-87958.20642102,      0.        ,      0.        ,\n",
       "             0.        ]])"
      ]
     },
     "execution_count": 562,
     "metadata": {},
     "output_type": "execute_result"
    }
   ],
   "source": [
    "x= np.array([[i[\"paid_due_to_pref\"]] for i in aux_investments]).T\n",
    "x"
   ]
  },
  {
   "cell_type": "code",
   "execution_count": 578,
   "metadata": {},
   "outputs": [
    {
     "ename": "SyntaxError",
     "evalue": "unmatched '}' (143828305.py, line 18)",
     "output_type": "error",
     "traceback": [
      "\u001b[1;36m  Input \u001b[1;32mIn [578]\u001b[1;36m\u001b[0m\n\u001b[1;33m    df3}\u001b[0m\n\u001b[1;37m       ^\u001b[0m\n\u001b[1;31mSyntaxError\u001b[0m\u001b[1;31m:\u001b[0m unmatched '}'\n"
     ]
    }
   ],
   "source": [
    "df=pd.DataFrame(data=np.array([[i[\"invested\"]] for i in aux_investments]).T,\n",
    "                columns= [f'{i[\"round\"]}_invested' for i in aux_investments])\n",
    "\n",
    "df1=pd.DataFrame(data=np.array([[i[\"total_paid\"]] for i in aux_investments]).T,\n",
    "                columns= [f'{i[\"round\"]}_total_paid' for i in aux_investments])\n",
    "\n",
    "df2=pd.DataFrame(data=np.array([[i[\"liq_pref_floor\"]] for i in aux_investments]).T,\n",
    "                columns= [f'{i[\"round\"]}_liq_pref_floor' for i in aux_investments])\n",
    "\n",
    "df3=pd.DataFrame(data=np.array([[i[\"paid_due_to_pref\"]] for i in aux_investments]).T,\n",
    "                columns= [f'{i[\"round\"]}_paid_due_to_pref' for i in aux_investments])\n",
    "\n",
    "df4=pd.DataFrame(data=np.array([[i[\"paid_due_to_stake\"]] for i in aux_investments]).T,\n",
    "                columns= [f'{i[\"round\"]}_paid_due_to_stake' for i in aux_investments])\n",
    "\n",
    "\n",
    " \n",
    "df"
   ]
  },
  {
   "cell_type": "code",
   "execution_count": 567,
   "metadata": {},
   "outputs": [
    {
     "data": {
      "text/html": [
       "<div>\n",
       "<style scoped>\n",
       "    .dataframe tbody tr th:only-of-type {\n",
       "        vertical-align: middle;\n",
       "    }\n",
       "\n",
       "    .dataframe tbody tr th {\n",
       "        vertical-align: top;\n",
       "    }\n",
       "\n",
       "    .dataframe thead th {\n",
       "        text-align: right;\n",
       "    }\n",
       "</style>\n",
       "<table border=\"1\" class=\"dataframe\">\n",
       "  <thead>\n",
       "    <tr style=\"text-align: right;\">\n",
       "      <th></th>\n",
       "      <th>incorporation_paid_due_to_pref</th>\n",
       "      <th>round_0_paid_due_to_pref</th>\n",
       "      <th>round_1_paid_due_to_pref</th>\n",
       "      <th>round_2_paid_due_to_pref</th>\n",
       "    </tr>\n",
       "  </thead>\n",
       "  <tbody>\n",
       "  </tbody>\n",
       "</table>\n",
       "</div>"
      ],
      "text/plain": [
       "Empty DataFrame\n",
       "Columns: [incorporation_paid_due_to_pref, round_0_paid_due_to_pref, round_1_paid_due_to_pref, round_2_paid_due_to_pref]\n",
       "Index: []"
      ]
     },
     "execution_count": 567,
     "metadata": {},
     "output_type": "execute_result"
    }
   ],
   "source": [
    "df=pd.DataFrame(\n",
    "                columns= [f'{i[\"round\"]}_paid_due_to_pref' for i in aux_investments]) \n",
    "df"
   ]
  },
  {
   "cell_type": "code",
   "execution_count": 504,
   "metadata": {},
   "outputs": [
    {
     "data": {
      "text/plain": [
       "['incorporation', 'round_0', 'round_1', 'round_2']"
      ]
     },
     "execution_count": 504,
     "metadata": {},
     "output_type": "execute_result"
    }
   ],
   "source": [
    "x= [i['round'] for i in aux_investments]\n",
    "\n"
   ]
  },
  {
   "cell_type": "code",
   "execution_count": 415,
   "metadata": {},
   "outputs": [
    {
     "ename": "SyntaxError",
     "evalue": "invalid syntax (3502863998.py, line 1)",
     "output_type": "error",
     "traceback": [
      "\u001b[1;36m  Input \u001b[1;32mIn [415]\u001b[1;36m\u001b[0m\n\u001b[1;33m    res = {'last_valuation':last_valuation, 'exit_valuation': exit_valuation, 'round':[i for in aux_investments: 'round':i['round']]}\u001b[0m\n\u001b[1;37m                                                                                             ^\u001b[0m\n\u001b[1;31mSyntaxError\u001b[0m\u001b[1;31m:\u001b[0m invalid syntax\n"
     ]
    }
   ],
   "source": [
    "res = {'last_valuation':last_valuation, 'exit_valuation': exit_valuation, 'round':[i for in aux_investments: 'round':i['round']]}\n",
    "                                                                                                             # 'invested':i['invested'],\n",
    "                                                                                                            # 'stake':i['stake'],\n",
    "                                                                                                            # 'total_paid':i['total_paid'],\n",
    "                                                                                                            # 'stake_value':i['stake_value']]}"
   ]
  },
  {
   "cell_type": "code",
   "execution_count": 440,
   "metadata": {},
   "outputs": [
    {
     "ename": "SyntaxError",
     "evalue": "f-string: unmatched '[' (2545259538.py, line 1)",
     "output_type": "error",
     "traceback": [
      "\u001b[1;36m  Input \u001b[1;32mIn [440]\u001b[1;36m\u001b[0m\n\u001b[1;33m    x=f'{i['round']}'\u001b[0m\n\u001b[1;37m            ^\u001b[0m\n\u001b[1;31mSyntaxError\u001b[0m\u001b[1;31m:\u001b[0m f-string: unmatched '['\n"
     ]
    }
   ],
   "source": [
    "x= for i f'{i['round']}'"
   ]
  },
  {
   "cell_type": "code",
   "execution_count": 442,
   "metadata": {},
   "outputs": [],
   "source": [
    "x= {'dict':1,'dict1':2, 'dict3': [\n",
    "                                    [i[\"name\"] for i in aux_investments],\n",
    "                                    [i[\"round\"] for i in aux_investments],\n",
    "                                    [i[\"invested\"] for i in aux_investments],\n",
    "                                    [i[\"stake\"] for i in aux_investments],\n",
    "                                    [i[\"total_paid\"] for i in aux_investments],\n",
    "                                    [i[\"stake_value\"] for i in aux_investments],\n",
    "                                    [i[\"liq_pref_floor\"] for i in aux_investments],\n",
    "                                    [i[\"paid_due_to_pref\"] for i in aux_investments],\n",
    "                                    [i[\"paid_due_to_stake\"] for i in aux_investments]]}\n"
   ]
  },
  {
   "cell_type": "code",
   "execution_count": null,
   "metadata": {},
   "outputs": [],
   "source": []
  },
  {
   "cell_type": "code",
   "execution_count": 330,
   "metadata": {},
   "outputs": [
    {
     "data": {
      "text/html": [
       "<div>\n",
       "<style scoped>\n",
       "    .dataframe tbody tr th:only-of-type {\n",
       "        vertical-align: middle;\n",
       "    }\n",
       "\n",
       "    .dataframe tbody tr th {\n",
       "        vertical-align: top;\n",
       "    }\n",
       "\n",
       "    .dataframe thead th {\n",
       "        text-align: right;\n",
       "    }\n",
       "</style>\n",
       "<table border=\"1\" class=\"dataframe\">\n",
       "  <thead>\n",
       "    <tr style=\"text-align: right;\">\n",
       "      <th></th>\n",
       "    </tr>\n",
       "  </thead>\n",
       "  <tbody>\n",
       "  </tbody>\n",
       "</table>\n",
       "</div>"
      ],
      "text/plain": [
       "Empty DataFrame\n",
       "Columns: []\n",
       "Index: []"
      ]
     },
     "execution_count": 330,
     "metadata": {},
     "output_type": "execute_result"
    }
   ],
   "source": []
  },
  {
   "cell_type": "code",
   "execution_count": null,
   "metadata": {},
   "outputs": [],
   "source": []
  }
 ],
 "metadata": {
  "kernelspec": {
   "display_name": "Python 3.9.12 ('base')",
   "language": "python",
   "name": "python3"
  },
  "language_info": {
   "codemirror_mode": {
    "name": "ipython",
    "version": 3
   },
   "file_extension": ".py",
   "mimetype": "text/x-python",
   "name": "python",
   "nbconvert_exporter": "python",
   "pygments_lexer": "ipython3",
   "version": "3.9.12"
  },
  "orig_nbformat": 4,
  "vscode": {
   "interpreter": {
    "hash": "d6d95cc2113f27933d94cf5dc4756771c047fdf35dcdab64aef7915169771a1c"
   }
  }
 },
 "nbformat": 4,
 "nbformat_minor": 2
}
