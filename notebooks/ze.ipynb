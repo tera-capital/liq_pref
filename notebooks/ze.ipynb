{
 "cells": [
  {
   "cell_type": "code",
   "execution_count": 1,
   "metadata": {},
   "outputs": [],
   "source": [
    "import numpy as np"
   ]
  },
  {
   "cell_type": "code",
   "execution_count": 2,
   "metadata": {},
   "outputs": [],
   "source": [
    "def post_money_safe(val, inv):\n",
    "    return inv / val * 100\n",
    "\n",
    "def pre_money_safe(pre, stake, inv):\n",
    "    return stake * pre / (pre+inv)"
   ]
  },
  {
   "cell_type": "code",
   "execution_count": 3,
   "metadata": {},
   "outputs": [
    {
     "data": {
      "text/plain": [
       "10.0"
      ]
     },
     "execution_count": 3,
     "metadata": {},
     "output_type": "execute_result"
    }
   ],
   "source": [
    "# B brings in 10MM on a 100MM post money valuation on ABC\n",
    "# how much B owns?\n",
    "\n",
    "post_val = 100\n",
    "new_inv = 10\n",
    "\n",
    "b_post_stake = post_money_safe(post_val, new_inv)\n",
    "b_post_stake"
   ]
  },
  {
   "cell_type": "code",
   "execution_count": 5,
   "metadata": {},
   "outputs": [
    {
     "data": {
      "text/plain": [
       "45.0"
      ]
     },
     "execution_count": 5,
     "metadata": {},
     "output_type": "execute_result"
    }
   ],
   "source": [
    "# Investor A had 10% stake on ABC (10MM investment with a 100MM pre money Valuation)\n",
    "# B brings in an additional 10MM on a new round\n",
    "# how much A still have?\n",
    "\n",
    "a_pre_stake = 50\n",
    "pre_val = 90\n",
    "\n",
    "a_post_stake = pre_money_safe(pre_val, a_pre_stake, new_inv)\n",
    "a_post_stake"
   ]
  },
  {
   "cell_type": "code",
   "execution_count": 70,
   "metadata": {},
   "outputs": [],
   "source": [
    "class Investment:\n",
    "\n",
    "    def __init__(self, company, invested, round, covenant=None):\n",
    "        self.round = round\n",
    "        self.invested = invested\n",
    "        self.price = company.price\n",
    "        self.shares = self.invested / self.price\n",
    "        self.covenant = covenant\n",
    "\n",
    "class Investor:\n",
    "\n",
    "    def __init__(self, name):\n",
    "        self.name = name\n",
    "        self.investments = []\n",
    "\n",
    "    def new_investment(self, company, invested, round, covenant=None):\n",
    "        investment = Investment(company, invested, round, covenant)\n",
    "        self.investments.append(investment)\n",
    "\n",
    "    def total_shares(self):\n",
    "        shares = 0\n",
    "        for i in self.investments:\n",
    "            shares += i.shares \n",
    "        return shares\n",
    "\n",
    "class Company:\n",
    "    \n",
    "    def __init__(self, name, equity, shares):\n",
    "        self.name = name\n",
    "        self.equity = equity\n",
    "        self.shares = shares\n",
    "        self.price = equity/shares\n",
    "        self.round = 0\n",
    "        self.founder = Investor('founder')\n",
    "        self.founder.new_investment(self, self.equity, self.round)\n",
    "        self.cap_table = [self.founder]\n",
    "\n",
    "    def current_stake(self):\n",
    "        cap = []\n",
    "        for i in self.cap_table:\n",
    "            cap.append({'investor': i.name, 'stake': i.total_shares()/self.shares * 100})\n",
    "        return cap\n",
    "\n",
    "    def find_investor(self, name):\n",
    "        for i in self.cap_table:\n",
    "            if name == i.name:\n",
    "                return i\n",
    "        return None\n",
    "\n",
    "    def add_investor(self, name):\n",
    "        new_investor = Investor(name)\n",
    "        self.cap_table.append(new_investor)\n",
    "        return new_investor\n",
    "\n",
    "    def get_create_investor(self, name):\n",
    "        investor = self.find_investor(name)\n",
    "        if investor is None:\n",
    "            investor = self.add_investor(name)\n",
    "        return investor\n",
    "\n",
    "    def new_round(self, investors, deal, covenant=None):\n",
    "        \n",
    "        self.round +=1\n",
    "\n",
    "        post_money_valuation = deal['investment'] / (deal['stake']/100)\n",
    "        pre_money_valuation = post_money_valuation - deal['investment']\n",
    "        \n",
    "        new_price = pre_money_valuation / self.shares\n",
    "        new_shares = deal['investment'] / new_price\n",
    "\n",
    "        self.price = new_price\n",
    "        self.shares += new_shares\n",
    "        self.equity = self.price * self.shares\n",
    "\n",
    "        for i in investors:\n",
    "            new_investor = self.get_create_investor(i['name'])\n",
    "            new_investor.new_investment(self, deal['investment'] * (i['stake']/100),self.round, covenant=covenant)\n",
    "            \n",
    "        return None\n",
    "\n"
   ]
  },
  {
   "cell_type": "code",
   "execution_count": 77,
   "metadata": {},
   "outputs": [],
   "source": [
    "capital = 1e4\n",
    "price_per_share = 0.01\n",
    "\n",
    "company = Company('consorciei', capital, capital/price_per_share)"
   ]
  },
  {
   "cell_type": "code",
   "execution_count": 78,
   "metadata": {},
   "outputs": [
    {
     "data": {
      "text/plain": [
       "[{'investor': 'founder', 'stake': 100.0}]"
      ]
     },
     "execution_count": 78,
     "metadata": {},
     "output_type": "execute_result"
    }
   ],
   "source": [
    "cap = company.current_stake()\n",
    "cap"
   ]
  },
  {
   "cell_type": "code",
   "execution_count": 79,
   "metadata": {},
   "outputs": [],
   "source": [
    "investors = [{'name': 'Ze', 'stake': 100}]\n",
    "deal = {'investment': 100000, 'stake': 10}\n",
    "company.new_round(investors, deal, covenant=None)"
   ]
  },
  {
   "cell_type": "code",
   "execution_count": 80,
   "metadata": {},
   "outputs": [
    {
     "data": {
      "text/plain": [
       "[{'investor': 'founder', 'stake': 90.00000000000001},\n",
       " {'investor': 'Ze', 'stake': 10.0}]"
      ]
     },
     "execution_count": 80,
     "metadata": {},
     "output_type": "execute_result"
    }
   ],
   "source": [
    "cap = company.current_stake()\n",
    "cap"
   ]
  },
  {
   "cell_type": "code",
   "execution_count": 81,
   "metadata": {},
   "outputs": [
    {
     "data": {
      "text/plain": [
       "999999.9999999999"
      ]
     },
     "execution_count": 81,
     "metadata": {},
     "output_type": "execute_result"
    }
   ],
   "source": [
    "company.equity"
   ]
  }
 ],
 "metadata": {
  "kernelspec": {
   "display_name": "Python 3.10.4 64-bit",
   "language": "python",
   "name": "python3"
  },
  "language_info": {
   "codemirror_mode": {
    "name": "ipython",
    "version": 3
   },
   "file_extension": ".py",
   "mimetype": "text/x-python",
   "name": "python",
   "nbconvert_exporter": "python",
   "pygments_lexer": "ipython3",
   "version": "3.10.4"
  },
  "orig_nbformat": 4,
  "vscode": {
   "interpreter": {
    "hash": "3ad933181bd8a04b432d3370b9dc3b0662ad032c4dfaa4e4f1596c548f763858"
   }
  }
 },
 "nbformat": 4,
 "nbformat_minor": 2
}
