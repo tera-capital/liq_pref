{
 "cells": [
  {
   "cell_type": "code",
   "execution_count": 1,
   "metadata": {},
   "outputs": [],
   "source": [
    "import numpy as np"
   ]
  },
  {
   "cell_type": "code",
   "execution_count": 2,
   "metadata": {},
   "outputs": [
    {
     "name": "stdout",
     "output_type": "stream",
     "text": [
      "10.0\n",
      "45.0\n"
     ]
    }
   ],
   "source": [
    "def post_money_safe(val, inv):\n",
    "    return inv / val * 100\n",
    "\n",
    "def pre_money_safe(pre, stake, inv):\n",
    "    return stake * pre / (pre+inv)\n",
    "\n",
    "\n",
    "# B brings in 10MM on a 100MM post money valuation on ABC\n",
    "# how much B owns?\n",
    "\n",
    "post_val = 100\n",
    "new_inv = 10\n",
    "\n",
    "b_post_stake = post_money_safe(post_val, new_inv)\n",
    "print(b_post_stake)\n",
    "\n",
    "# Investor A had 10% stake on ABC (10MM investment with a 100MM pre money Valuation)\n",
    "# B brings in an additional 10MM on a new round\n",
    "# how much A still have?\n",
    "\n",
    "a_pre_stake = 50\n",
    "pre_val = 90\n",
    "\n",
    "a_post_stake = pre_money_safe(pre_val, a_pre_stake, new_inv)\n",
    "print(a_post_stake)"
   ]
  },
  {
   "cell_type": "code",
   "execution_count": 3,
   "metadata": {},
   "outputs": [],
   "source": [
    "class Investment:\n",
    "\n",
    "    def __init__(self, invested, round):\n",
    "        self.invested = invested\n",
    "        self.round = round\n",
    "        self.shares = self.invested / self.round.price\n",
    "\n",
    "class Investor:\n",
    "\n",
    "    def __init__(self, name):\n",
    "        self.name = name\n",
    "        self.investments = []\n",
    "\n",
    "    def new_investment(self, invested, round):\n",
    "        investment = Investment(invested, round)\n",
    "        self.investments.append(investment)\n",
    "\n",
    "    def total_shares(self):\n",
    "        shares = 0\n",
    "        for i in self.investments:\n",
    "            shares += i.shares \n",
    "        return shares\n",
    "    \n",
    "    def total_invested(self):\n",
    "        invested = 0\n",
    "        for i in self.investments:\n",
    "            invested += i.invested \n",
    "        return invested\n",
    "\n",
    "\n",
    "class Covenants:\n",
    "    \n",
    "    def __init__(self, covenants={}):\n",
    "        self.liquidity_preference = covenants.get('liquidity_preference', 0)\n",
    "           \n",
    "class Round:\n",
    "\n",
    "    def __init__(self, name, invested, valuation, shares, covenants):\n",
    "        self.name = name\n",
    "        self.invested = invested\n",
    "        self.valuation = valuation\n",
    "        self.shares = shares\n",
    "        self.price = valuation/shares\n",
    "        self.covenants = covenants\n",
    "\n",
    "class Deal:\n",
    "\n",
    "    def __init__(self, investment, stake):\n",
    "        self.investment = investment\n",
    "        self.stake = stake / 100\n",
    "\n",
    "class Company:\n",
    "    \n",
    "    def __init__(self, name, equity, shares):\n",
    "        self.name = name\n",
    "\n",
    "        self.incorporation = Round('incorporation', equity, equity, shares, Covenants())\n",
    "\n",
    "        self.founder = Investor('founder')\n",
    "        self.founder.new_investment(equity, self.incorporation)\n",
    "\n",
    "        self.investors = [self.founder]\n",
    "        self.rounds = [self.incorporation]\n",
    "\n",
    "    def current_stake(self):\n",
    "        cap = []\n",
    "        for i in self.investors:\n",
    "            last_round = self.rounds[-1]\n",
    "            total_shares = last_round.shares\n",
    "            investor_shares = i.total_shares()\n",
    "            cap.append({\n",
    "                'investor': i.name,\n",
    "                'stake': investor_shares / total_shares * 100\n",
    "            })\n",
    "        return cap\n",
    "\n",
    "    def get_investor(self, name):\n",
    "        for i in self.investors:\n",
    "            if name == i.name:\n",
    "                return i\n",
    "        return None\n",
    "\n",
    "    def add_investor(self, name):\n",
    "        new_investor = Investor(name)\n",
    "        self.investors.append(new_investor)\n",
    "        return new_investor\n",
    "\n",
    "    def get_add_investor(self, name):\n",
    "        investor = self.get_investor(name)\n",
    "        if investor is None:\n",
    "            investor = self.add_investor(name)\n",
    "        return investor\n",
    "\n",
    "    def new_round(self, name, investors, deal, covenants):\n",
    "\n",
    "        post_money_valuation = deal.investment / deal.stake\n",
    "        pre_money_valuation = post_money_valuation -  deal.investment\n",
    "        \n",
    "        total_shares =  self.rounds[-1].shares * ( 1 + deal.investment / pre_money_valuation)\n",
    "        \n",
    "        round = Round(name, deal.investment, post_money_valuation, total_shares, covenants = covenants)\n",
    "        \n",
    "        self.rounds.append(round)\n",
    "\n",
    "        for i in investors:\n",
    "            new_investor = self.get_add_investor(i['name'])\n",
    "            new_investor.new_investment(deal.investment * (i['stake']/100), round)\n",
    "            \n",
    "        return None"
   ]
  },
  {
   "cell_type": "code",
   "execution_count": 4,
   "metadata": {},
   "outputs": [
    {
     "data": {
      "text/plain": [
       "10000.0"
      ]
     },
     "execution_count": 4,
     "metadata": {},
     "output_type": "execute_result"
    }
   ],
   "source": [
    "capital = 1e4\n",
    "price_per_share = 0.01\n",
    "\n",
    "company = Company('consorciei', capital, capital/price_per_share)\n",
    "company.incorporation.valuation"
   ]
  },
  {
   "cell_type": "code",
   "execution_count": 5,
   "metadata": {},
   "outputs": [
    {
     "data": {
      "text/plain": [
       "[{'investor': 'founder', 'stake': 100.0}]"
      ]
     },
     "execution_count": 5,
     "metadata": {},
     "output_type": "execute_result"
    }
   ],
   "source": [
    "cap = company.current_stake()\n",
    "cap"
   ]
  },
  {
   "cell_type": "code",
   "execution_count": 6,
   "metadata": {},
   "outputs": [],
   "source": [
    "deal = Deal(10000, 10)\n",
    "investors = [{'name': 'ze', 'stake': 100}]\n",
    "company.new_round('seed', investors, deal, Covenants({}))\n",
    "\n",
    "deal = Deal(500000, 20)\n",
    "investors = [{'name': 'tera', 'stake': 80}, {'name': 'patria', 'stake': 20}]\n",
    "covenants = Covenants({'liquidity_preference': 2})\n",
    "company.new_round('a', investors, deal, covenants)"
   ]
  },
  {
   "cell_type": "code",
   "execution_count": 7,
   "metadata": {},
   "outputs": [
    {
     "data": {
      "text/plain": [
       "[{'investor': 'founder', 'stake': 72.0},\n",
       " {'investor': 'ze', 'stake': 8.000000000000002},\n",
       " {'investor': 'tera', 'stake': 16.0},\n",
       " {'investor': 'patria', 'stake': 4.0}]"
      ]
     },
     "execution_count": 7,
     "metadata": {},
     "output_type": "execute_result"
    }
   ],
   "source": [
    "company.current_stake()"
   ]
  },
  {
   "cell_type": "code",
   "execution_count": 86,
   "metadata": {},
   "outputs": [
    {
     "name": "stdout",
     "output_type": "stream",
     "text": [
      "---------------------------------------------\n",
      "total shares: 1388888.888888889\n",
      "last valuation: 2500000.0\n",
      "exit valuation: 10000000.0\n",
      "exit price: 7.199999999999999\n",
      "---------------------------------------------\n",
      "investor | round | round_size | invested | stakes | round_stake | liquidity_preference\n",
      "founder | incorporation | 10000.0 | 10000.0 | 72.0 | 100.0 | 0\n",
      "ze | seed | 10000 | 10000.0 | 8.000000000000002 | 100.0 | 0\n",
      "tera | a | 500000 | 400000.0 | 16.0 | 80.0 | 2\n",
      "patria | a | 500000 | 100000.0 | 4.0 | 20.0 | 2\n",
      "---------------------------------------------\n"
     ]
    }
   ],
   "source": [
    "exit_multiple = 4\n",
    "last_valuation = company.rounds[-1].valuation \n",
    "total_shares = company.rounds[-1].shares\n",
    "exit_valuation = last_valuation*exit_multiple\n",
    "print('---------------------------------------------')\n",
    "print('total shares: %s' % total_shares)\n",
    "print('last valuation: %s' % last_valuation)\n",
    "print('exit valuation: %s' % exit_valuation)\n",
    "print('exit price: %s' % (exit_valuation / total_shares))\n",
    "print('---------------------------------------------')\n",
    "print('investor', '|', 'round', '|', 'round_size', '|', 'invested', '|', 'stakes', '|', 'round_stake', '|', 'liquidity_preference')\n",
    "for i in company.investors:\n",
    "    for a in i.investments:\n",
    "        print(i.name, '|', a.round.name, '|', a.round.invested, '|', a.invested, '|', a.shares/total_shares*100, '|', a.invested/a.round.invested*100, '|', a.round.covenants.liquidity_preference )\n",
    "print('---------------------------------------------')"
   ]
  },
  {
   "cell_type": "code",
   "execution_count": 87,
   "metadata": {},
   "outputs": [],
   "source": [
    "val_to_dist = exit_valuation\n",
    "aux_investments = []\n",
    "for i in company.investors:\n",
    "    for a in i.investments:\n",
    "        aux_investment = {\n",
    "            'name': i.name,\n",
    "            'round': a.round.name,\n",
    "            'invested': a.invested,\n",
    "            'stake': a.shares/total_shares,\n",
    "            'round_size': a.round.invested,\n",
    "            'round_share': a.invested/a.round.invested,\n",
    "            'liq_pref': a.round.covenants.liquidity_preference,\n",
    "            'stake_value': a.shares/total_shares*exit_valuation,\n",
    "            'liq_pref_floor':  a.invested * a.round.covenants.liquidity_preference\n",
    "        }\n",
    "        aux_investments.append(aux_investment)\n",
    "\n",
    "for r in company.rounds[::-1]:\n",
    "    r_invested = r.invested\n",
    "    r_liq_pref = r.covenants.liquidity_preference\n",
    "    r_to_pay = np.minimum(r_invested * r_liq_pref,val_to_dist) if r_liq_pref > 0 else val_to_dist\n",
    "    for k,i in enumerate(aux_investments):\n",
    "        if i['round'] == r.name:\n",
    "            stake_value = i['stake']*r_to_pay\n",
    "            liquidity_pref_floor = np.minimum(i['invested']*i['liq_pref'], r_to_pay * i['round_share'])\n",
    "            paid_due_to_pref = np.maximum(liquidity_pref_floor-stake_value, 0)\n",
    "            aux_investments[k]['paid_due_to_pref']  = paid_due_to_pref\n",
    "            val_to_dist -= paid_due_to_pref\n",
    "    for k,i in enumerate(aux_investments):\n",
    "        if i['round'] == r.name:\n",
    "            paid_due_to_stake = i['stake'] * val_to_dist\n",
    "            aux_investments[k]['paid_due_to_stake'] = paid_due_to_stake\n",
    "            aux_investments[k]['total_paid'] =  paid_due_to_stake + i['paid_due_to_pref'] \n",
    "            aux_investments[k]['paid_due_to_pref'] = aux_investments[k]['total_paid']-i['stake_value']\n"
   ]
  },
  {
   "cell_type": "code",
   "execution_count": 88,
   "metadata": {},
   "outputs": [
    {
     "name": "stdout",
     "output_type": "stream",
     "text": [
      "[{'name': 'founder', 'round': 'incorporation', 'invested': 10000.0, 'stake': 0.72, 'round_size': 10000.0, 'round_share': 1.0, 'liq_pref': 0, 'stake_value': 7200000.0, 'liq_pref_floor': 0.0, 'paid_due_to_pref': -576000.0, 'paid_due_to_stake': 6624000.0, 'total_paid': 6624000.0}, {'name': 'ze', 'round': 'seed', 'invested': 10000.0, 'stake': 0.08000000000000002, 'round_size': 10000, 'round_share': 1.0, 'liq_pref': 0, 'stake_value': 800000.0000000001, 'liq_pref_floor': 0.0, 'paid_due_to_pref': -64000.0, 'paid_due_to_stake': 736000.0000000001, 'total_paid': 736000.0000000001}, {'name': 'tera', 'round': 'a', 'invested': 400000.0, 'stake': 0.16, 'round_size': 500000, 'round_share': 0.8, 'liq_pref': 2, 'stake_value': 1600000.0, 'liq_pref_floor': 800000.0, 'paid_due_to_pref': 512000.0, 'paid_due_to_stake': 1472000.0, 'total_paid': 2112000.0}, {'name': 'patria', 'round': 'a', 'invested': 100000.0, 'stake': 0.04, 'round_size': 500000, 'round_share': 0.2, 'liq_pref': 2, 'stake_value': 400000.0, 'liq_pref_floor': 200000.0, 'paid_due_to_pref': 128000.0, 'paid_due_to_stake': 368000.0, 'total_paid': 528000.0}]\n"
     ]
    }
   ],
   "source": [
    "print(aux_investments)"
   ]
  },
  {
   "cell_type": "code",
   "execution_count": null,
   "metadata": {},
   "outputs": [],
   "source": []
  }
 ],
 "metadata": {
  "kernelspec": {
   "display_name": "Python 3.10.4 64-bit",
   "language": "python",
   "name": "python3"
  },
  "language_info": {
   "codemirror_mode": {
    "name": "ipython",
    "version": 3
   },
   "file_extension": ".py",
   "mimetype": "text/x-python",
   "name": "python",
   "nbconvert_exporter": "python",
   "pygments_lexer": "ipython3",
   "version": "3.10.4"
  },
  "orig_nbformat": 4,
  "vscode": {
   "interpreter": {
    "hash": "3ad933181bd8a04b432d3370b9dc3b0662ad032c4dfaa4e4f1596c548f763858"
   }
  }
 },
 "nbformat": 4,
 "nbformat_minor": 2
}
