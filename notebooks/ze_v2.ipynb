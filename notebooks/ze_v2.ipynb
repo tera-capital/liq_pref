{
 "cells": [
  {
   "cell_type": "code",
   "execution_count": 2,
   "metadata": {},
   "outputs": [],
   "source": [
    "import numpy as np"
   ]
  },
  {
   "cell_type": "code",
   "execution_count": 67,
   "metadata": {},
   "outputs": [],
   "source": [
    "class Investment:\n",
    "\n",
    "    def __init__(self, invested, round):\n",
    "        self.invested = invested\n",
    "        self.round = round\n",
    "        self.shares = np.round(self.invested / self.round.price,6)\n",
    "        self.share_type = self.round.share_type\n",
    "\n",
    "class Investor:\n",
    "\n",
    "    def __init__(self, name):\n",
    "        self.name = name\n",
    "        self.investments = []\n",
    "\n",
    "    def new_investment(self, invested, round):\n",
    "        investment = Investment(invested, round)\n",
    "        self.investments.append(investment)\n",
    "\n",
    "    def total_shares(self):\n",
    "        shares = 0\n",
    "        for i in self.investments: \n",
    "            shares += i.shares \n",
    "        return shares\n",
    "\n",
    "    def shares_ownership(self):\n",
    "        stake = {}\n",
    "        for i in self.investments:\n",
    "            if i.share_type in stake.keys():\n",
    "                stake[i.share_type] += i.shares\n",
    "            else:\n",
    "                stake[i.share_type] = i.shares\n",
    "        return stake\n",
    "    \n",
    "    def total_invested(self):\n",
    "        invested = 0\n",
    "        for i in self.investments:\n",
    "            invested += i.invested \n",
    "        return invested\n",
    "\n",
    "class Covenants:\n",
    "    \n",
    "    def __init__(self, covenants={}):\n",
    "        self.liquidity_preference = covenants.get('liquidity_preference', 0)\n",
    "           \n",
    "class Round:\n",
    "\n",
    "    def __init__(self, name, invested, valuation, total_shares, new_shares, type, covenants):\n",
    "        self.name = name\n",
    "        self.invested = invested\n",
    "        self.valuation = valuation\n",
    "        self.new_shares = new_shares\n",
    "        self.share_type = type if type != 'common' else '_common'\n",
    "        self.price = round(valuation/total_shares,6)\n",
    "        self.covenants = covenants\n",
    "\n",
    "class BookInvestor:\n",
    "    def __init__(self, name, stake):\n",
    "        self.name = name\n",
    "        self.stake = np.round(stake / 100,4)\n",
    "\n",
    "class Deal:\n",
    "\n",
    "    def __init__(self, investment, stake, share_type):\n",
    "        self.investment = investment\n",
    "        self.stake = np.round(stake / 100,4)\n",
    "        self.share_type = share_type\n",
    "        self.book = []\n",
    "\n",
    "    def add_investor(self, investor):\n",
    "        self.book.append(investor)\n",
    "\n",
    "class Company:\n",
    "    \n",
    "    def __init__(self, name, equity, shares):\n",
    "        self.name = name\n",
    "\n",
    "        self.incorporation = Round('incorporation', equity, equity, shares, shares, 'common', Covenants())\n",
    "\n",
    "        self.founder = Investor('founder')\n",
    "        self.founder.new_investment(equity, self.incorporation)\n",
    "\n",
    "        self.investors = [self.founder]\n",
    "        self.rounds = [self.incorporation]\n",
    "\n",
    "    def current_stake(self):\n",
    "        cap = {}\n",
    "        for i in self.investors:\n",
    "            last_round = self.rounds[-1]\n",
    "            total_shares = self.total_shares()\n",
    "            investor_shares = i.total_shares()\n",
    "            cap[i.name] = {\n",
    "                'stake': np.round(investor_shares / total_shares * 100, 2)\n",
    "            }\n",
    "        return cap\n",
    "    \n",
    "    def shares_ownership(self):\n",
    "        aux = {}\n",
    "        for i, r in enumerate(self.rounds[::-1]):\n",
    "            if r.share_type not in aux.keys(): \n",
    "                aux[r.share_type] = {'shares': r.new_shares, 'invested': r.invested, 'investors': {}, 'liquidity_preference_due': 0}\n",
    "            else:\n",
    "                aux[r.share_type]['shares'] += r.new_shares\n",
    "                aux[r.share_type]['invested'] += r.invested\n",
    "\n",
    "        for i in self.investors:\n",
    "            for a in i.investments:\n",
    "                if a.share_type in aux.keys():\n",
    "                    if i.name not in aux[a.share_type]['investors'].keys():\n",
    "                        aux[a.share_type]['investors'][i.name] = {\n",
    "                            'invested': a.invested,\n",
    "                            'shares': a.shares,\n",
    "                            'company_stake': np.round(a.shares/ self.total_shares(),2),\n",
    "                            'share_type_stake': np.round(a.shares/aux[a.share_type]['shares'],2),\n",
    "                            'liquidity_preference_due': np.round(a.invested * a.round.covenants.liquidity_preference,2),\n",
    "                        }\n",
    "                    else:\n",
    "                        aux[a.share_type]['investors'][i.name]['invested'] += a.invested\n",
    "                        aux[a.share_type]['investors'][i.name]['shares'] += a.shares\n",
    "                        aux[a.share_type]['investors'][i.name]['company_stake'] = np.round(aux[a.share_type]['investors'][i.name]['shares'] / self.total_shares(),2)\n",
    "                        aux[a.share_type]['investors'][i.name]['share_type_stake'] = np.round(aux[a.share_type]['investors'][i.name]['shares']/aux[a.share_type]['shares'],2)\n",
    "                        aux[a.share_type]['investors'][i.name]['liquidity_preference_due'] += np.round(a.invested * a.round.covenants.liquidity_preference,2)\n",
    "                    aux[a.share_type]['liquidity_preference_due'] += np.round(a.invested * a.round.covenants.liquidity_preference,2)\n",
    "        return sorted(aux.items(), reverse=True)\n",
    "\n",
    "    def get_investor(self, name):\n",
    "        for i in self.investors:\n",
    "            if name == i.name:\n",
    "                return i\n",
    "        return None\n",
    "\n",
    "    def add_investor(self, name):\n",
    "        new_investor = Investor(name)\n",
    "        self.investors.append(new_investor)\n",
    "        return new_investor\n",
    "\n",
    "    def get__or_add_investor(self, name):\n",
    "        investor = self.get_investor(name)\n",
    "        if investor is None:\n",
    "            investor = self.add_investor(name)\n",
    "        return investor\n",
    "\n",
    "    def total_shares(self):\n",
    "        return sum(r.new_shares for r in self.rounds)\n",
    "\n",
    "    def last_valuation(self):\n",
    "        return self.rounds[-1].valuation\n",
    "\n",
    "    def new_round(self, name, deal, covenants):\n",
    "\n",
    "        \n",
    "        post_money_valuation = deal.investment / deal.stake\n",
    "        pre_money_valuation = post_money_valuation -  deal.investment\n",
    "        \n",
    "        old_shares = self.total_shares()\n",
    "        new_shares =  old_shares * deal.investment / pre_money_valuation\n",
    "        \n",
    "        round = Round(name, deal.investment, post_money_valuation, old_shares+new_shares , new_shares, deal.share_type, covenants = covenants)\n",
    "        \n",
    "        self.rounds.append(round)\n",
    "\n",
    "        for i in deal.book:\n",
    "            new_investor = self.get__or_add_investor(i.name)\n",
    "            new_investor.new_investment(deal.investment * i.stake , round)\n",
    "            \n",
    "        return None\n",
    "    \n",
    "    def exit(self, valuation):\n",
    "        investors = self.current_stake()\n",
    "        val_to_dist = valuation\n",
    "        for i in self.shares_ownership():\n",
    "            to_pay = np.minimum(i[-1]['liquidity_preference_due'], val_to_dist) if i[0] != '_common' else val_to_dist\n",
    "            for j in i[-1]['investors'].items():\n",
    "                stake_value = j[-1]['company_stake'] * valuation\n",
    "                liquidity_pref_floor = np.minimum(j[-1]['liquidity_preference_due'], to_pay * j[-1]['share_type_stake']) \n",
    "                total_paid = np.minimum(np.maximum(liquidity_pref_floor, stake_value), val_to_dist)  if i[0] != '_common' else to_pay * j[-1]['share_type_stake']\n",
    "                val_to_dist -= total_paid\n",
    "                if 'invested' in investors[j[0]].keys():\n",
    "                    investors[j[0]]['invested'] += j[-1]['invested']\n",
    "                else:\n",
    "                    investors[j[0]]['invested'] = j[-1]['invested']\n",
    "                if 'total_paid' in investors[j[0]].keys():\n",
    "                    investors[j[0]]['total_paid'] += total_paid \n",
    "                else:\n",
    "                     investors[j[0]]['total_paid'] = total_paid\n",
    "                if 'stake_value' in investors[j[0]].keys():\n",
    "                    investors[j[0]]['stake_value'] += stake_value \n",
    "                else:\n",
    "                     investors[j[0]]['stake_value'] = stake_value\n",
    "                \n",
    "        for i,k in enumerate(investors):\n",
    "            investors[k]['liquidity_preference_value'] = investors[k]['total_paid'] - investors[k]['stake_value']\n",
    "            investors[k]['MOIC'] = investors[k]['total_paid']/investors[k]['invested']\n",
    "        return investors\n",
    "\n",
    "            \n",
    "        "
   ]
  },
  {
   "cell_type": "code",
   "execution_count": 68,
   "metadata": {},
   "outputs": [
    {
     "data": {
      "text/plain": [
       "10000.0"
      ]
     },
     "execution_count": 68,
     "metadata": {},
     "output_type": "execute_result"
    }
   ],
   "source": [
    "capital = 1e4\n",
    "price_per_share = 0.01\n",
    "\n",
    "company = Company('consorciei', capital, capital/price_per_share)\n",
    "company.incorporation.valuation"
   ]
  },
  {
   "cell_type": "code",
   "execution_count": 69,
   "metadata": {},
   "outputs": [
    {
     "data": {
      "text/plain": [
       "{'founder': {'stake': 100.0}}"
      ]
     },
     "execution_count": 69,
     "metadata": {},
     "output_type": "execute_result"
    }
   ],
   "source": [
    "cap = company.current_stake()\n",
    "cap"
   ]
  },
  {
   "cell_type": "code",
   "execution_count": 70,
   "metadata": {},
   "outputs": [],
   "source": [
    "deal = Deal(10000, 10, 'common')\n",
    "deal.add_investor(BookInvestor('ze', 100))\n",
    "company.new_round('seed', deal, Covenants({}))"
   ]
  },
  {
   "cell_type": "code",
   "execution_count": 71,
   "metadata": {},
   "outputs": [
    {
     "data": {
      "text/plain": [
       "{'founder': {'stake': 90.0}, 'ze': {'stake': 10.0}}"
      ]
     },
     "execution_count": 71,
     "metadata": {},
     "output_type": "execute_result"
    }
   ],
   "source": [
    "company.current_stake()"
   ]
  },
  {
   "cell_type": "code",
   "execution_count": 72,
   "metadata": {},
   "outputs": [],
   "source": [
    "deal = Deal(500000, 20, 'a')\n",
    "deal.add_investor(BookInvestor('tera', 100))\n",
    "covenants = Covenants({'liquidity_preference': 1})\n",
    "company.new_round('a', deal, covenants)"
   ]
  },
  {
   "cell_type": "code",
   "execution_count": 73,
   "metadata": {},
   "outputs": [
    {
     "data": {
      "text/plain": [
       "{'founder': {'stake': 72.0}, 'ze': {'stake': 8.0}, 'tera': {'stake': 20.0}}"
      ]
     },
     "execution_count": 73,
     "metadata": {},
     "output_type": "execute_result"
    }
   ],
   "source": [
    "company.current_stake()"
   ]
  },
  {
   "cell_type": "code",
   "execution_count": 74,
   "metadata": {},
   "outputs": [],
   "source": [
    "deal = Deal(1000000, 10, 'b')\n",
    "deal.add_investor(BookInvestor('yc', 100))\n",
    "covenants = Covenants({'liquidity_preference': 2})\n",
    "company.new_round('b', deal, covenants)"
   ]
  },
  {
   "cell_type": "code",
   "execution_count": 75,
   "metadata": {},
   "outputs": [
    {
     "data": {
      "text/plain": [
       "{'founder': {'stake': 64.8},\n",
       " 'ze': {'stake': 7.2},\n",
       " 'tera': {'stake': 18.0},\n",
       " 'yc': {'stake': 10.0}}"
      ]
     },
     "execution_count": 75,
     "metadata": {},
     "output_type": "execute_result"
    }
   ],
   "source": [
    "company.current_stake()"
   ]
  },
  {
   "cell_type": "code",
   "execution_count": 76,
   "metadata": {},
   "outputs": [
    {
     "data": {
      "text/plain": [
       "[('b',\n",
       "  {'shares': 154320.98765432095,\n",
       "   'invested': 1000000,\n",
       "   'investors': {'yc': {'invested': 1000000.0,\n",
       "     'shares': 154320.987654,\n",
       "     'company_stake': 0.1,\n",
       "     'share_type_stake': 1.0,\n",
       "     'liquidity_preference_due': 2000000.0}},\n",
       "   'liquidity_preference_due': 2000000.0}),\n",
       " ('a',\n",
       "  {'shares': 277777.77777777775,\n",
       "   'invested': 500000,\n",
       "   'investors': {'tera': {'invested': 500000.0,\n",
       "     'shares': 277777.777778,\n",
       "     'company_stake': 0.18,\n",
       "     'share_type_stake': 1.0,\n",
       "     'liquidity_preference_due': 500000.0}},\n",
       "   'liquidity_preference_due': 500000.0}),\n",
       " ('_common',\n",
       "  {'shares': 1111111.111111111,\n",
       "   'invested': 20000.0,\n",
       "   'investors': {'founder': {'invested': 10000.0,\n",
       "     'shares': 1000000.0,\n",
       "     'company_stake': 0.65,\n",
       "     'share_type_stake': 0.9,\n",
       "     'liquidity_preference_due': 0.0},\n",
       "    'ze': {'invested': 10000.0,\n",
       "     'shares': 111111.111111,\n",
       "     'company_stake': 0.07,\n",
       "     'share_type_stake': 0.1,\n",
       "     'liquidity_preference_due': 0.0}},\n",
       "   'liquidity_preference_due': 0.0})]"
      ]
     },
     "execution_count": 76,
     "metadata": {},
     "output_type": "execute_result"
    }
   ],
   "source": [
    "company.shares_ownership()"
   ]
  },
  {
   "cell_type": "code",
   "execution_count": 77,
   "metadata": {},
   "outputs": [
    {
     "name": "stdout",
     "output_type": "stream",
     "text": [
      "exit valuation:  2600000.0\n",
      "~~~~~~~~~~~~~~~~~~~~~~~~~~~~~~~~~~~~~~~~~~~~~~~~\n",
      "share class:  b\n",
      "   investor:  yc\n",
      "      total_paid:  2000000.0\n",
      "      paid_due_to_stake:  260000.0\n",
      "      paid_due_to_pref:  1740000.0\n",
      "~~~~~~~~~~~~~~~~~~~~~~~~~~~~~~~~~~~~~~~~~~~~~~~~\n",
      "share class:  a\n",
      "   investor:  tera\n",
      "      total_paid:  500000.0\n",
      "      paid_due_to_stake:  468000.0\n",
      "      paid_due_to_pref:  32000.0\n",
      "~~~~~~~~~~~~~~~~~~~~~~~~~~~~~~~~~~~~~~~~~~~~~~~~\n",
      "share class:  _common\n",
      "   investor:  founder\n",
      "      total_paid:  100000.0\n",
      "      paid_due_to_stake:  1690000.0\n",
      "      paid_due_to_pref:  -1590000.0\n",
      "   investor:  ze\n",
      "      total_paid:  0.0\n",
      "      paid_due_to_stake:  182000.00000000003\n",
      "      paid_due_to_pref:  -182000.00000000003\n",
      "~~~~~~~~~~~~~~~~~~~~~~~~~~~~~~~~~~~~~~~~~~~~~~~~\n",
      "total paid:  2600000.0\n"
     ]
    }
   ],
   "source": [
    "# sanity check\n",
    "exit_multiple = 0.26\n",
    "exit_valuation = company.last_valuation() * exit_multiple\n",
    "val_to_dist = exit_valuation\n",
    "paid_out = 0\n",
    "print('exit valuation: ', exit_valuation)\n",
    "print('~~~~~~~~~~~~~~~~~~~~~~~~~~~~~~~~~~~~~~~~~~~~~~~~')\n",
    "for i in company.shares_ownership():\n",
    "    print('share class: ', i[0] if i[0] != 'z' else 'common')\n",
    "    to_pay = np.minimum(i[-1]['liquidity_preference_due'], val_to_dist) if i[0] != 'z' else val_to_dist\n",
    "    # print('to_pay: ', to_pay)\n",
    "    for j in i[-1]['investors'].items():\n",
    "        print('   investor: ', j[0])\n",
    "        # print('      company_stake: ', j[-1]['company_stake'])\n",
    "        stake_value = j[-1]['company_stake'] * exit_valuation\n",
    "        # print('      stake_value: ', stake_value)\n",
    "        liquidity_pref_floor = np.minimum(j[-1]['liquidity_preference_due'], to_pay * j[-1]['share_type_stake']) \n",
    "        # print('      liquidity_pref_floor: ', liquidity_pref_floor)\n",
    "        total_paid = np.minimum(np.maximum(liquidity_pref_floor, stake_value), val_to_dist)  if i[0] != 'z' else to_pay * j[-1]['share_type_stake']\n",
    "        print('      total_paid: ', total_paid)\n",
    "        print('      paid_due_to_stake: ', stake_value)\n",
    "        print('      paid_due_to_pref: ', total_paid-stake_value)\n",
    "        paid_out += total_paid\n",
    "        val_to_dist -= total_paid\n",
    "    print('~~~~~~~~~~~~~~~~~~~~~~~~~~~~~~~~~~~~~~~~~~~~~~~~')\n",
    "print('total paid: ', paid_out)"
   ]
  },
  {
   "cell_type": "code",
   "execution_count": 78,
   "metadata": {},
   "outputs": [
    {
     "data": {
      "text/plain": [
       "{'founder': {'stake': 64.8,\n",
       "  'invested': 10000.0,\n",
       "  'total_paid': 90000.0,\n",
       "  'stake_value': 1690000.0,\n",
       "  'liquidity_preference_value': -1600000.0,\n",
       "  'MOIC': 9.0},\n",
       " 'ze': {'stake': 7.2,\n",
       "  'invested': 10000.0,\n",
       "  'total_paid': 10000.0,\n",
       "  'stake_value': 182000.00000000003,\n",
       "  'liquidity_preference_value': -172000.00000000003,\n",
       "  'MOIC': 1.0},\n",
       " 'tera': {'stake': 18.0,\n",
       "  'invested': 500000.0,\n",
       "  'total_paid': 500000.0,\n",
       "  'stake_value': 468000.0,\n",
       "  'liquidity_preference_value': 32000.0,\n",
       "  'MOIC': 1.0},\n",
       " 'yc': {'stake': 10.0,\n",
       "  'invested': 1000000.0,\n",
       "  'total_paid': 2000000.0,\n",
       "  'stake_value': 260000.0,\n",
       "  'liquidity_preference_value': 1740000.0,\n",
       "  'MOIC': 2.0}}"
      ]
     },
     "execution_count": 78,
     "metadata": {},
     "output_type": "execute_result"
    }
   ],
   "source": [
    "company.exit(company.last_valuation() * exit_multiple)"
   ]
  },
  {
   "cell_type": "code",
   "execution_count": 85,
   "metadata": {},
   "outputs": [],
   "source": [
    "multiple_range = np.linspace(0,3,101)\n",
    "returns = {}\n",
    "for m in multiple_range:\n",
    "    result = company.exit(company.last_valuation() * m)\n",
    "    for i in result.keys():\n",
    "        if i in returns.keys():\n",
    "            returns[i].append(result[i]['MOIC'])\n",
    "        else:\n",
    "            returns[i] = []\n",
    "            returns[i].append(result[i]['MOIC'])\n"
   ]
  },
  {
   "cell_type": "code",
   "execution_count": 86,
   "metadata": {},
   "outputs": [
    {
     "data": {
      "image/png": "[encoded data removed]",
      "text/plain": [
       "<Figure size 432x288 with 1 Axes>"
      ]
     },
     "metadata": {
      "needs_background": "light"
     },
     "output_type": "display_data"
    },
    {
     "data": {
      "image/png": "[encoded data removed]",
      "text/plain": [
       "<Figure size 432x288 with 1 Axes>"
      ]
     },
     "metadata": {
      "needs_background": "light"
     },
     "output_type": "display_data"
    },
    {
     "data": {
      "image/png": "[encoded data removed]",
      "text/plain": [
       "<Figure size 432x288 with 1 Axes>"
      ]
     },
     "metadata": {
      "needs_background": "light"
     },
     "output_type": "display_data"
    },
    {
     "data": {
      "image/png": "[encoded data removed]",
      "text/plain": [
       "<Figure size 432x288 with 1 Axes>"
      ]
     },
     "metadata": {
      "needs_background": "light"
     },
     "output_type": "display_data"
    }
   ],
   "source": [
    "import matplotlib.pyplot as plt\n",
    "\n",
    "# plot\n",
    "\n",
    "\n",
    "investors = []\n",
    "for i in company.investors:\n",
    "    fig, ax = plt.subplots()\n",
    "\n",
    "    ax.plot(multiple_range, returns[i.name], linewidth=2.0)\n",
    "\n",
    "    plt.show()"
   ]
  },
  {
   "cell_type": "code",
   "execution_count": null,
   "metadata": {},
   "outputs": [],
   "source": []
  },
  {
   "cell_type": "code",
   "execution_count": null,
   "metadata": {},
   "outputs": [],
   "source": []
  }
 ],
 "metadata": {
  "kernelspec": {
   "display_name": "Python 3.8.0 64-bit ('3.8.0')",
   "language": "python",
   "name": "python3"
  },
  "language_info": {
   "codemirror_mode": {
    "name": "ipython",
    "version": 3
   },
   "file_extension": ".py",
   "mimetype": "text/x-python",
   "name": "python",
   "nbconvert_exporter": "python",
   "pygments_lexer": "ipython3",
   "version": "3.8.0"
  },
  "orig_nbformat": 4,
  "vscode": {
   "interpreter": {
    "hash": "82a41b4a4cce6b0a95cd95bf9b2175e02cd27a0bce6cbae89a2fe7f11e6f6147"
   }
  }
 },
 "nbformat": 4,
 "nbformat_minor": 2
}
