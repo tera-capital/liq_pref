{
 "cells": [
  {
   "cell_type": "code",
   "execution_count": 1,
   "metadata": {},
   "outputs": [],
   "source": [
    "import numpy as np\n",
    "import pandas as pd"
   ]
  },
  {
   "cell_type": "code",
   "execution_count": 68,
   "metadata": {},
   "outputs": [],
   "source": [
    "class Investment:\n",
    "\n",
    "    def __init__(self, invested, round):\n",
    "        self.invested = invested\n",
    "        self.round = round\n",
    "        self.shares = self.invested / self.round.price\n",
    "        self.share_type = self.round.share_type\n",
    "\n",
    "class Investor:\n",
    "\n",
    "    def __init__(self, name):\n",
    "        self.name = name\n",
    "        self.investments = []\n",
    "\n",
    "    def new_investment(self, invested, round):\n",
    "        investment = Investment(invested, round)\n",
    "        self.investments.append(investment)\n",
    "\n",
    "    def total_shares(self):\n",
    "        shares = 0\n",
    "        for i in self.investments: \n",
    "            shares += i.shares \n",
    "        return shares\n",
    "\n",
    "    def shares_ownership(self):\n",
    "        stake = {}\n",
    "        for i in self.investments:\n",
    "            if i.share_type in stake.keys():\n",
    "                stake[i.share_type] += i.shares\n",
    "            else:\n",
    "                stake[i.share_type] = i.shares\n",
    "        return stake\n",
    "    \n",
    "    def total_invested(self):\n",
    "        invested = 0\n",
    "        for i in self.investments:\n",
    "            invested += i.invested \n",
    "        return invested\n",
    "\n",
    "class Covenants:\n",
    "    \n",
    "    def __init__(self, covenants={}):\n",
    "        self.liquidity_preference = covenants.get('liquidity_preference', 0)\n",
    "           \n",
    "class Round:\n",
    "\n",
    "    def __init__(self, name, invested, valuation, shares, type, covenants):\n",
    "        self.name = name\n",
    "        self.invested = invested\n",
    "        self.valuation = valuation\n",
    "        self.shares = shares\n",
    "        self.share_type = type\n",
    "        self.price = valuation/shares\n",
    "        self.covenants = covenants\n",
    "\n",
    "class BookInvestor:\n",
    "    def __init__(self, name, stake):\n",
    "        self.name = name\n",
    "        self.stake = stake / 100\n",
    "\n",
    "class Deal:\n",
    "\n",
    "    def __init__(self, investment, stake, share_type):\n",
    "        self.investment = investment\n",
    "        self.stake = stake / 100\n",
    "        self.share_type = share_type\n",
    "        self.book = []\n",
    "\n",
    "    def add_investor(self, investor):\n",
    "        self.book.append(investor)\n",
    "\n",
    "class Company:\n",
    "    \n",
    "    def __init__(self, name, equity, shares):\n",
    "        self.name = name\n",
    "\n",
    "        self.incorporation = Round('incorporation', equity, equity, shares, 'common', Covenants())\n",
    "\n",
    "        self.founder = Investor('founder')\n",
    "        self.founder.new_investment(equity, self.incorporation)\n",
    "\n",
    "        self.investors = [self.founder]\n",
    "        self.rounds = [self.incorporation]\n",
    "\n",
    "    def current_stake(self):\n",
    "        cap = []\n",
    "        for i in self.investors:\n",
    "            last_round = self.rounds[-1]\n",
    "            total_shares = last_round.shares\n",
    "            investor_shares = i.total_shares()\n",
    "            cap.append({\n",
    "                'investor': i.name,\n",
    "                'stake': investor_shares / total_shares * 100\n",
    "            })\n",
    "        return cap\n",
    "    \n",
    "    def shares_ownership(self):\n",
    "        cap = []\n",
    "        total_shares = self.rounds[-1].shares\n",
    "        for i in self.investors:\n",
    "            investor_ownership = i.shares_ownership()\n",
    "            for j in investor_ownership.keys():\n",
    "                investor = {}\n",
    "                investor['name'] = i.name\n",
    "                investor['shares_type'] = j\n",
    "                investor['shares'] = investor_ownership[j]\n",
    "                investor['stake'] = investor['shares'] / total_shares\n",
    "                cap.append(investor)\n",
    "        return cap\n",
    "\n",
    "    def get_investor(self, name):\n",
    "        for i in self.investors:\n",
    "            if name == i.name:\n",
    "                return i\n",
    "        return None\n",
    "\n",
    "    def add_investor(self, name):\n",
    "        new_investor = Investor(name)\n",
    "        self.investors.append(new_investor)\n",
    "        return new_investor\n",
    "\n",
    "    def get_add_investor(self, name):\n",
    "        investor = self.get_investor(name)\n",
    "        if investor is None:\n",
    "            investor = self.add_investor(name)\n",
    "        return investor\n",
    "\n",
    "    def new_round(self, name, deal, covenants):\n",
    "\n",
    "        post_money_valuation = deal.investment / deal.stake\n",
    "        pre_money_valuation = post_money_valuation -  deal.investment\n",
    "        \n",
    "        total_shares =  self.rounds[-1].shares * ( 1 + deal.investment / pre_money_valuation)\n",
    "        \n",
    "        round = Round(name, deal.investment, post_money_valuation, total_shares, deal.share_type, covenants = covenants)\n",
    "        \n",
    "        self.rounds.append(round)\n",
    "\n",
    "        for i in deal.book:\n",
    "            new_investor = self.get_add_investor(i.name)\n",
    "            new_investor.new_investment(deal.investment * i.stake , round)\n",
    "            \n",
    "        return None"
   ]
  },
  {
   "cell_type": "code",
   "execution_count": 69,
   "metadata": {},
   "outputs": [
    {
     "data": {
      "text/plain": [
       "10000.0"
      ]
     },
     "execution_count": 69,
     "metadata": {},
     "output_type": "execute_result"
    }
   ],
   "source": [
    "capital = 1e4\n",
    "price_per_share = 0.01\n",
    "\n",
    "company = Company('consorciei', capital, capital/price_per_share)\n",
    "company.incorporation.valuation"
   ]
  },
  {
   "cell_type": "code",
   "execution_count": 70,
   "metadata": {},
   "outputs": [
    {
     "data": {
      "text/plain": [
       "[{'investor': 'founder', 'stake': 100.0}]"
      ]
     },
     "execution_count": 70,
     "metadata": {},
     "output_type": "execute_result"
    }
   ],
   "source": [
    "cap = company.current_stake()\n",
    "cap"
   ]
  },
  {
   "cell_type": "code",
   "execution_count": 71,
   "metadata": {},
   "outputs": [],
   "source": [
    "deal = Deal(10000, 10, 'common')\n",
    "deal.add_investor(BookInvestor('ze', 100))\n",
    "company.new_round('seed', deal, Covenants({}))\n",
    "\n",
    "deal = Deal(500000, 20, 'a')\n",
    "deal.add_investor(BookInvestor('tera', 80))\n",
    "deal.add_investor(BookInvestor('patria', 20))\n",
    "covenants = Covenants({'liquidity_preference': 2})\n",
    "company.new_round('a', deal, covenants)"
   ]
  },
  {
   "cell_type": "code",
   "execution_count": 72,
   "metadata": {},
   "outputs": [
    {
     "data": {
      "text/plain": [
       "[{'investor': 'founder', 'stake': 72.0},\n",
       " {'investor': 'ze', 'stake': 8.000000000000002},\n",
       " {'investor': 'tera', 'stake': 16.0},\n",
       " {'investor': 'patria', 'stake': 4.0}]"
      ]
     },
     "execution_count": 72,
     "metadata": {},
     "output_type": "execute_result"
    }
   ],
   "source": [
    "company.current_stake()"
   ]
  },
  {
   "cell_type": "code",
   "execution_count": 73,
   "metadata": {},
   "outputs": [
    {
     "data": {
      "text/plain": [
       "{'a': 55555.55555555556}"
      ]
     },
     "execution_count": 73,
     "metadata": {},
     "output_type": "execute_result"
    }
   ],
   "source": [
    "company.investors[3].shares_ownership()"
   ]
  },
  {
   "cell_type": "code",
   "execution_count": 74,
   "metadata": {},
   "outputs": [
    {
     "data": {
      "text/plain": [
       "[{'name': 'founder',\n",
       "  'shares_type': 'common',\n",
       "  'shares': 1000000.0,\n",
       "  'stake': 0.72},\n",
       " {'name': 'ze',\n",
       "  'shares_type': 'common',\n",
       "  'shares': 111111.11111111114,\n",
       "  'stake': 0.08000000000000002},\n",
       " {'name': 'tera',\n",
       "  'shares_type': 'a',\n",
       "  'shares': 222222.22222222225,\n",
       "  'stake': 0.16},\n",
       " {'name': 'patria',\n",
       "  'shares_type': 'a',\n",
       "  'shares': 55555.55555555556,\n",
       "  'stake': 0.04}]"
      ]
     },
     "execution_count": 74,
     "metadata": {},
     "output_type": "execute_result"
    }
   ],
   "source": [
    "company.shares_ownership()"
   ]
  },
  {
   "cell_type": "code",
   "execution_count": null,
   "metadata": {},
   "outputs": [],
   "source": [
    "exit_multiple = 1\n",
    "last_valuation = company.rounds[-1].valuation \n",
    "total_shares = company.rounds[-1].shares\n",
    "exit_valuation = last_valuation*exit_multiple\n",
    "\n"
   ]
  },
  {
   "cell_type": "code",
   "execution_count": 75,
   "metadata": {},
   "outputs": [
    {
     "name": "stdout",
     "output_type": "stream",
     "text": [
      "---------------------------------------------\n",
      "last valuation: 2500000.0\n",
      "exit valuation: 2500000.0\n",
      "---------------------------------------------\n",
      "name | round | invested | stake | total_paid\n",
      "stake_value | liq_pref_floor | paid_due_to_pref | paid_due_to_stake\n",
      "------------------------------------------------------\n",
      "founder | incorporation | 10000.0 | 0.72 | 385714.28571428574\n",
      "1800000.0 | 0.0 | -1414285.7142857143 | 1800000.0\n",
      "------------------------------------------------------\n",
      "ze | seed | 10000.0 | 0.08000000000000002 | 42857.14285714287\n",
      "200000.00000000003 | 0.0 | -157142.85714285716 | 200000.00000000003\n",
      "------------------------------------------------------\n",
      "tera | a | 400000.0 | 0.16 | 800000.0\n",
      "400000.0 | 800000.0 | 400000.0 | 400000.0\n",
      "------------------------------------------------------\n",
      "patria | a | 100000.0 | 0.04 | 200000.0\n",
      "100000.0 | 200000.0 | 100000.0 | 100000.0\n",
      "------------------------------------------------------\n"
     ]
    }
   ],
   "source": [
    "exit_multiple = 1\n",
    "last_valuation = company.rounds[-1].valuation \n",
    "total_shares = company.rounds[-1].shares\n",
    "exit_valuation = last_valuation*exit_multiple\n",
    "\n",
    "val_to_dist = exit_valuation\n",
    "aux_investments = []\n",
    "for i in company.investors:\n",
    "    for a in i.investments:\n",
    "        aux_investment = {\n",
    "            'name': i.name,\n",
    "            'round': a.round.name,\n",
    "            'invested': a.invested,\n",
    "            'shares': a.shares,\n",
    "            'stake': a.shares/total_shares,\n",
    "            'round_size': a.round.invested,\n",
    "            'round_share': a.invested/a.round.invested,\n",
    "            'liq_pref': a.round.covenants.liquidity_preference,\n",
    "            'stake_value': a.shares/total_shares*exit_valuation,\n",
    "            'liq_pref_floor':  a.invested * a.round.covenants.liquidity_preference\n",
    "        }\n",
    "        aux_investments.append(aux_investment)\n",
    "\n",
    "total_no_preference_shares = 0 \n",
    "\n",
    "for r in company.rounds[::-1]:\n",
    "    r_invested = r.invested\n",
    "    r_liq_pref = r.covenants.liquidity_preference\n",
    "    r_to_pay = np.minimum(r_invested * r_liq_pref, val_to_dist)\n",
    "    for k,i in enumerate(aux_investments):\n",
    "        if i['round'] == r.name and r.covenants.liquidity_preference:\n",
    "            stake_value = i['stake_value']\n",
    "            liquidity_pref_floor = np.minimum(i['invested']*i['liq_pref'], r_to_pay * i['round_share'])\n",
    "            total_paid = np.minimum(np.maximum(liquidity_pref_floor, stake_value), val_to_dist)\n",
    "            aux_investments[k]['total_paid']  = total_paid\n",
    "            aux_investments[k]['paid_due_to_stake'] = stake_value\n",
    "            aux_investments[k]['paid_due_to_pref'] = aux_investments[k]['total_paid']-stake_value\n",
    "            val_to_dist -= total_paid\n",
    "        else:\n",
    "            total_no_preference_shares += i['shares']\n",
    "\n",
    "for r in company.rounds[::-1]:          \n",
    "    for k,i in enumerate(aux_investments):\n",
    "        if i['round'] == r.name and not r.covenants.liquidity_preference:\n",
    "            aux_investments[k]['paid_due_to_stake'] = i['stake_value']\n",
    "            aux_investments[k]['total_paid'] =  i['shares'] / total_no_preference_shares * val_to_dist\n",
    "            aux_investments[k]['paid_due_to_pref'] = aux_investments[k]['total_paid']-i['stake_value']\n",
    "            \n",
    "print('---------------------------------------------')\n",
    "print('last valuation: %s' % last_valuation)\n",
    "print('exit valuation: %s' % exit_valuation)\n",
    "print('---------------------------------------------')\n",
    "print('name', '|', 'round', '|', 'invested', '|', 'stake', '|', 'total_paid')\n",
    "print('stake_value', '|', 'liq_pref_floor', '|', 'paid_due_to_pref', '|', 'paid_due_to_stake')\n",
    "print('------------------------------------------------------')\n",
    "for i in aux_investments:\n",
    "    print(i['name'], '|', i['round'], '|', i['invested'], '|', i['stake'], '|', i['total_paid'])\n",
    "    print(i['stake_value'], '|', i['liq_pref_floor'], '|', i['paid_due_to_pref'], '|', i['paid_due_to_stake'])\n",
    "    print('------------------------------------------------------')"
   ]
  },
  {
   "cell_type": "code",
   "execution_count": null,
   "metadata": {},
   "outputs": [],
   "source": []
  }
 ],
 "metadata": {
  "kernelspec": {
   "display_name": "Python 3.10.4 64-bit",
   "language": "python",
   "name": "python3"
  },
  "language_info": {
   "codemirror_mode": {
    "name": "ipython",
    "version": 3
   },
   "file_extension": ".py",
   "mimetype": "text/x-python",
   "name": "python",
   "nbconvert_exporter": "python",
   "pygments_lexer": "ipython3",
   "version": "3.10.4"
  },
  "orig_nbformat": 4,
  "vscode": {
   "interpreter": {
    "hash": "3ad933181bd8a04b432d3370b9dc3b0662ad032c4dfaa4e4f1596c548f763858"
   }
  }
 },
 "nbformat": 4,
 "nbformat_minor": 2
}
